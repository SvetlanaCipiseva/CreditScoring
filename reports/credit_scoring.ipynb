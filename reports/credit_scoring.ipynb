{
 "cells": [
  {
   "cell_type": "markdown",
   "metadata": {},
   "source": [
    "# Credit scoring  \n",
    "\n",
    "## Objective  \n",
    "Predict customers, who will default on a loan. \n",
    "\n",
    "## Dataset  \n",
    "\n",
    "Dataset contains the following tables:\n",
    "- loans.csv: a sample of one month loans\n",
    "\n",
    "### Loans  \n",
    "Every row in the table is one loan, issued for <b>one month</b>.\n",
    "\n",
    "|Column | Data Type | Description |\n",
    "|:-----|:---------|--------|   \n",
    "| Customer_WID | Integer | Unique customer identifier   \n",
    "| DisbursementDate | Date | Date, when loan was disbursed  \n",
    "| Age | Integer | Customer age  \n",
    "| CustomerType | Factor | Internal customer type classification (1,2)  \n",
    "| SOR | Integer | A metric of customer relationship with the bank    \n",
    "| MonthsSinceOpen | Integer | Number of months since first account for the customer  \n",
    "| MonthsSinceActive | Integer | Number of months since last activity  \n",
    "| FinancialMeasure1 | Float | Some measure of financial activity of a customer  \n",
    "| FinancialMeasure2 | Float | Some measure of financial activity of a customer  \n",
    "| FinancialMeasure3 | Float | Some measure of financial activity of a customer \n",
    "| FinancialMeasure4 | Float | Some measure of financial activity of a customer  \n",
    "| CRBScore | Integer | Credit rating bureau score  \n",
    "| Amount | Float | Loan amount  \n",
    "| Default | Boolean | 1 - Defaulted on this loan, 0 - paid\n",
    "\n",
    " \n",
    "\n",
    "### Business variables  \n",
    "For business model evaluation consider using the following information:  \n",
    "<b>Loan application fee (paid only, when disbursed)</b>: 5% of Amount   \n",
    "<b>Annual interest rate</b>: 13%   \n",
    "\n",
    "When loan defaults, bank loses entire loaned amount. \n",
    "\n",
    "## Guidelines  \n",
    "This project dataset already has a dependent column you need to predict (Default).  \n",
    "\n",
    "In addition to that dataset contains Credit rating bureau score for the customer. This score is your benchmark, that need to improve with additional data provided.  \n",
    "\n",
    "Since you have customer identifier and date, when loan was issued you can try to build additional features based on previous loans.  \n",
    "\n",
    "For credit scoring it is crucially important to start of with model, that is explainable and robust to outliers. Then you might want to investigate more complicated models, and provide a tradeof between explainability and predictive power.   \n",
    "\n",
    "At the end you need to provide estimated monthly revenue by using your credit scoring model (refer to business variables above) and what is the cutoff for loan acceptance.\n",
    "\n",
    "## Project deliverables\n",
    "<b>Primary project deliverable is a Jupyter notebook</b> with the following sections:  \n",
    "1. <b>Problem statement</b> - in this section you should describe the business problem, that you are tryin to solve.  \n",
    "2. <b>Dataset description</b> - describe the dataset you are working with.  \n",
    "3. <b>Data exploration</b> - a free form section, where you are expected to explore the dataset and try to understand field interactions. Try seeing if fields correlate, if there is a date column how some measures change with time and what can you say about it. Try to slice your dependent variable across different independent variable. Treat outliers.    \n",
    "4. <b>Feature engineering</b> - describe and show code that transforms your original dataset into dataset ready for prediction.  \n",
    "5. <b>Feature selection</b> - describe how you approached feature selection: which features you decided to include in your models and why.\n",
    "6. <b>Modeling</b> - describe different binary classification models you used for this project. Ensure that you are correctly splitting dataset into train and test.  \n",
    "7. <b>Model evaluation</b> - describe which metrics you used for model comparison and why. Compare models fit in step 6 using technical and business measures (potential revenue lift from using one model instead of another, refer to Business variables section).  \n",
    "8. <b>Recommendation</b> - a small section, where you recommend one of the models built in section 6 and 7 for utilization in production. Make sure to describe why using business evaluation terms.   \n",
    "9. <b>Conclusion</b> - final conclusions. Describe your thoughts about the project, is it worth to put resulting model in production, what additional data could benefit your model.   \n",
    "\n",
    "Secondary deliverable is a zip archive with: \n",
    "1. Project report  \n",
    "2. requirements.txt file with python package requirements necessary for your project.  \n",
    "3. All accompanying code necessary to run project report jupytern notebook.\n",
    "4. Data files should also be present, <b>but empty</b>, to singify where you expect your data to be.  \n",
    "\n",
    "## Project evaluation  \n",
    "Project is evaluated using the following criteria:  \n",
    "1. Report fullness - report should fully comply with structure described in Project deliverables.  \n",
    "2. Deliverables fullness - your submission should contain all required deliverables.  \n",
    "3. Jupyter notebook report should be runnable without errors, given that python package requirements are satisfied and data is present in specified locations.  \n",
    "4. Coding standards: source code files/data files/other files in the archive are logically organized, consistently named. Source code uses consistent naming conventions, shows good code reuse and abstractions.  \n",
    "5. Data exploration section should be comprehensive and easy to follow. Should explore majority of features available in the dataset. Charts should be consistently named and follow the same formatting style.  \n",
    "6. Feature engineering, Feature selection sections should be split into subsections according to logical steps in your process. Feature selection should be based on statistical measures.  \n",
    "7. Modeling and Model evaluation - ensure that your train/test split is valid and does not leak future information into your training dataset. Model evaluation criteria is clearly described and used. Estimate and show how you are handling under/overfitting. If your model uses hyperparameters, show how you estimated their values. Very important to add model evaluation in business terms.       \n",
    "8. Recommendation and Conclusions - clear model recommendations in business terms. If given business variables non of the models give revenue lift, clearly describe so in the recommendations, otherwise show potential increase in revenue.  \n",
    "\n"
   ]
  },
  {
   "cell_type": "markdown",
   "metadata": {},
   "source": [
    "### Loans  \n",
    "Every row in the table is one loan, issued for <b>one month</b>.\n",
    "\n",
    "|Column | Data Type | Description |\n",
    "|:-----|:---------|--------|   \n",
    "| Customer_WID | Integer | Unique customer identifier   \n",
    "| DisbursementDate | Date | Date, when loan was disbursed  \n",
    "| Age | Integer | Customer age  \n",
    "| CustomerType | Factor | Internal customer type classification (1,2)  \n",
    "| SOR | Integer | A metric of customer relationship with the bank    \n",
    "| MonthsSinceOpen | Integer | Number of months since first account for the customer  \n",
    "| MonthsSinceActive | Integer | Number of months since last activity  \n",
    "| FinancialMeasure1 | Float | Some measure of financial activity of a customer  \n",
    "| FinancialMeasure2 | Float | Some measure of financial activity of a customer  \n",
    "| FinancialMeasure3 | Float | Some measure of financial activity of a customer \n",
    "| FinancialMeasure4 | Float | Some measure of financial activity of a customer  \n",
    "| CRBScore | Integer | Credit rating bureau score  \n",
    "| Amount | Float | Loan amount  \n",
    "| Default | Boolean | 1 - Defaulted on this loan, 0 - paid"
   ]
  },
  {
   "cell_type": "code",
   "execution_count": 15,
   "metadata": {},
   "outputs": [
    {
     "ename": "ModuleNotFoundError",
     "evalue": "No module named 'code_source'",
     "output_type": "error",
     "traceback": [
      "\u001b[0;31m---------------------------------------------------------------------------\u001b[0m",
      "\u001b[0;31mModuleNotFoundError\u001b[0m                       Traceback (most recent call last)",
      "\u001b[0;32m<ipython-input-15-2926dcedaac9>\u001b[0m in \u001b[0;36m<module>\u001b[0;34m\u001b[0m\n\u001b[1;32m      1\u001b[0m \u001b[0mget_ipython\u001b[0m\u001b[0;34m(\u001b[0m\u001b[0;34m)\u001b[0m\u001b[0;34m.\u001b[0m\u001b[0mrun_line_magic\u001b[0m\u001b[0;34m(\u001b[0m\u001b[0;34m'matplotlib'\u001b[0m\u001b[0;34m,\u001b[0m \u001b[0;34m'inline'\u001b[0m\u001b[0;34m)\u001b[0m\u001b[0;34m\u001b[0m\u001b[0;34m\u001b[0m\u001b[0m\n\u001b[0;32m----> 2\u001b[0;31m \u001b[0;32mfrom\u001b[0m \u001b[0mcode_source\u001b[0m\u001b[0;34m.\u001b[0m\u001b[0mdataset\u001b[0m \u001b[0;32mimport\u001b[0m \u001b[0mDataset\u001b[0m\u001b[0;34m\u001b[0m\u001b[0;34m\u001b[0m\u001b[0m\n\u001b[0m",
      "\u001b[0;31mModuleNotFoundError\u001b[0m: No module named 'code_source'"
     ]
    }
   ],
   "source": [
    "%matplotlib inline\n",
    "from code_source.dataset import Dataset"
   ]
  },
  {
   "cell_type": "markdown",
   "metadata": {},
   "source": [
    "# 1. Problem statement \n",
    "In this section you should describe the business problem, that you are trying to solve.  \n",
    "Predict who will pay loan."
   ]
  },
  {
   "cell_type": "markdown",
   "metadata": {},
   "source": [
    "# 2. Dataset description\n",
    "Describe the dataset you are working with.  \n",
    "Column  \n",
    "Count loans per person  \n",
    "Destribution person and loans  \n",
    "Plot loans per day  \n",
    "Customer type and age  \n",
    "boxplot per age  \n"
   ]
  },
  {
   "cell_type": "markdown",
   "metadata": {},
   "source": [
    "# 3. Data exploration \n",
    "A free form section, where you are expected to explore the dataset and try to understand field interactions. Try seeing if fields correlate, if there is a date column how some measures change with time and what can you say about it. Try to slice your dependent variable across different independent variable. Treat outliers."
   ]
  },
  {
   "cell_type": "code",
   "execution_count": null,
   "metadata": {},
   "outputs": [],
   "source": []
  },
  {
   "cell_type": "markdown",
   "metadata": {},
   "source": [
    "# 4. Feature engineering \n",
    "Describe and show code that transforms your original dataset into dataset ready for prediction."
   ]
  },
  {
   "cell_type": "markdown",
   "metadata": {},
   "source": [
    "### 4.1 Remove NaN values"
   ]
  },
  {
   "cell_type": "code",
   "execution_count": null,
   "metadata": {},
   "outputs": [],
   "source": []
  },
  {
   "cell_type": "markdown",
   "metadata": {},
   "source": [
    "# 5. Feature selection \n",
    "Describe how you approached feature selection: which features you decided to include in your models and why."
   ]
  },
  {
   "cell_type": "markdown",
   "metadata": {},
   "source": [
    "# 6. Modeling \n",
    "Describe different binary classification models you used for this project. Ensure that you are correctly splitting dataset into train and test.\n",
    "Model evaluation - describe which metrics you used for model comparison and why. Compare models fit in step 6 using technical and business measures (potential revenue lift from using one model instead of another, refer to Business variables section).\n",
    "Recommendation - a small section, where you recommend one of the models built in section 6 and 7 for utilization in production. Make sure to describe why using business evaluation terms.\n",
    "Conclusion - final conclusions. Describe your thoughts about the project, is it worth to put resulting model in production, what additional data could benefit your model."
   ]
  },
  {
   "cell_type": "markdown",
   "metadata": {},
   "source": [
    "# 7. Model evaluation \n",
    "Describe which metrics you used for model comparison and why. Compare models fit in step 6 using technical and business measures (potential revenue lift from using one model instead of another, refer to Business variables section).\n",
    "Recommendation - a small section, where you recommend one of the models built in section 6 and 7 for utilization in production. Make sure to describe why using business evaluation terms.\n",
    "Conclusion - final conclusions. Describe your thoughts about the project, is it worth to put resulting model in production, what additional data could benefit your model."
   ]
  },
  {
   "cell_type": "markdown",
   "metadata": {},
   "source": [
    "# 8. Recommendation \n",
    "A small section, where you recommend one of the models built in section 6 and 7 for utilization in production. Make sure to describe why using business evaluation terms.\n",
    "Conclusion - final conclusions. Describe your thoughts about the project, is it worth to put resulting model in production, what additional data could benefit your model."
   ]
  },
  {
   "cell_type": "markdown",
   "metadata": {},
   "source": [
    "# 9. Conclusion \n",
    "Final conclusions. Describe your thoughts about the project, is it worth to put resulting model in production, what additional data could benefit your model."
   ]
  },
  {
   "cell_type": "code",
   "execution_count": null,
   "metadata": {},
   "outputs": [],
   "source": []
  }
 ],
 "metadata": {
  "kernelspec": {
   "display_name": "Python 3",
   "language": "python",
   "name": "python3"
  },
  "language_info": {
   "codemirror_mode": {
    "name": "ipython",
    "version": 3
   },
   "file_extension": ".py",
   "mimetype": "text/x-python",
   "name": "python",
   "nbconvert_exporter": "python",
   "pygments_lexer": "ipython3",
   "version": "3.7.1"
  }
 },
 "nbformat": 4,
 "nbformat_minor": 2
}
