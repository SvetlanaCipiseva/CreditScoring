{
 "cells": [
  {
   "cell_type": "markdown",
   "metadata": {},
   "source": [
    "**<span style=\"font-size:3em;\">Credit scoring</span>**\n"
   ]
  },
  {
   "cell_type": "code",
   "execution_count": null,
   "metadata": {},
   "outputs": [],
   "source": [
    "%matplotlib inline\n",
    "import pandas as pd\n",
    "import numpy as np\n",
    "import matplotlib.pyplot as plt\n",
    "import seaborn as sns\n",
    "\n",
    "import datetime\n",
    "import calendar\n",
    "\n",
    "from code_source.dataset import *\n",
    "from code_source.exploration.plots import *\n",
    "from code_source.exploration.dates import DateContainer\n",
    "from code_source.features.evaluation import calculate_revenue_curve\n",
    "import scorecardpy as sc\n",
    "\n",
    "import statsmodels.api as sm\n",
    "\n",
    "from sklearn import linear_model\n",
    "from sklearn import metrics\n",
    "from sklearn.svm import SVC\n",
    "\n",
    "import pickle\n",
    "\n",
    "import warnings\n",
    "warnings.filterwarnings('ignore')\n",
    "pd.options.mode.chained_assignment = None"
   ]
  },
  {
   "cell_type": "markdown",
   "metadata": {},
   "source": [
    "# Problem statement \n",
    "\n",
    "**Objective**  \n",
    "Predict customers, who will default on a loan.  \n",
    "Maximaze revenue given business variables and developed predictive model.\n",
    "\n",
    "For business model evaluation consider using the following information:  \n",
    "* Loan application fee (paid only, when disbursed): 5% of Amount   \n",
    "* Annual interest rate: 13%   \n",
    "* When loan defaults, bank loses entire loaned amount. \n"
   ]
  },
  {
   "cell_type": "markdown",
   "metadata": {},
   "source": [
    "# Dataset description"
   ]
  },
  {
   "cell_type": "code",
   "execution_count": null,
   "metadata": {},
   "outputs": [],
   "source": [
    "df_original=Dataset.get_data()\n",
    "df=Dataset.clean_df"
   ]
  },
  {
   "cell_type": "markdown",
   "metadata": {},
   "source": [
    "**df_original** - original dataset  \n",
    "Dataset contains a sample of **one month loans**.  \n",
    "Every row in the table is one loan, issued for one month. \n",
    "\n",
    "Row count: **{{len(df_original.index)}}**  \n",
    "Column count: **{{len(df_original.columns)}}**  \n",
    "**'Default'** is a dependent column that I have to to predict  \n",
    "\n",
    "|Column | Data Type |NaN value count|Description | Comment|\n",
    "|:-----|:---------|--------|---|---|  \n",
    "| Customer_WID | {{str(df_original.Customer_WID.dtypes)}} |{{df_original.Customer_WID.isna().sum()}} |Unique customer identifier |  |\n",
    "| DisbursementDate | {{str(df_original.DisbursementDate.dtypes)}} |{{df_original.DisbursementDate.isna().sum()}}| Date, when loan was disbursed  ||\n",
    "| Age | {{str(df_original.Age.dtypes)}} | {{df_original.Age.isna().sum()}}| Customer age  ||\n",
    "| CustomerType | {{str(df_original.CustomerType.dtypes)}} | {{df_original.Age.isna().sum()}}|Internal customer type classification||  \n",
    "| SOR | {{str(df_original.SOR.dtypes)}} | {{df_original.SOR.isna().sum()}}|A metric of customer relationship with the bank ||   \n",
    "| MonthsSinceOpen | {{str(df_original.MonthsSinceOpen.dtypes)}} | {{df_original.MonthsSinceOpen.isna().sum()}}|Number of months since first account for the customer  ||\n",
    "| MonthsSinceActive | {{str(df_original.MonthsSinceActive.dtypes)}} | {{df_original.MonthsSinceActive.isna().sum()}}|Number of months since last activity || \n",
    "| FinancialMeasure1 | {{str(df_original.FinancialMeasure1.dtypes)}} |{{df_original.FinancialMeasure1.isna().sum()}}| Some measure of financial activity of a customer  ||\n",
    "| FinancialMeasure2 | {{str(df_original.FinancialMeasure2.dtypes)}} | {{df_original.FinancialMeasure2.isna().sum()}}|Some measure of financial activity of a customer  ||\n",
    "| FinancialMeasure3 | {{str(df_original.FinancialMeasure3.dtypes)}} |{{df_original.FinancialMeasure3.isna().sum()}}| Some measure of financial activity of a customer ||\n",
    "| FinancialMeasure4 | {{str(df_original.FinancialMeasure4.dtypes)}} | {{df_original.FinancialMeasure4.isna().sum()}}|Some measure of financial activity of a customer  ||\n",
    "| CRBScore | {{str(df_original.CRBScore.dtypes)}} | {{df_original.CRBScore.isna().sum()}}|Credit rating bureau score  \n",
    "| Amount | {{str(df_original.Amount.dtypes)}} |{{df_original.Amount.isna().sum()}}| Loan amount || \n",
    "| **Default** | {{str(df_original.Default.dtypes)}} |{{df_original.Default.isna().sum()}}| 1 - Defaulted on this loan, 0 - paid||"
   ]
  },
  {
   "cell_type": "markdown",
   "metadata": {},
   "source": [
    "**df** - dataset is cleaned using following steps:\n",
    "* 11 rows with NA values are removed\n",
    "* column 'DisbursementDate' type is changed from object to datetime\n",
    "* column 'Age' - rows are removed, where age is above 18 and below 80 \n",
    "* column 'CustomerType' - rows are removed, where type is 0 or 3\n",
    "* column 'MonthsSinceActive' is deleted\n",
    "* column 'AgeBin' is added ('Age' binning to 5% quantile)\n",
    "* column 'CRBScoreBin' is added ('CRBScore' binning to 5% quantile)\n",
    "* column 'MonthsSinceOpenBin' is added ('MonthsSinceOpen' binning by 3 months)\n",
    "\n",
    "Row count: **{{len(df.index)}}**  \n",
    "Column count: **{{len(df.columns)}}**   \n",
    "\n",
    "|Column | Data Type |NaN value count|Description | Comment|\n",
    "|:-----|:---------|--------|---|---|  \n",
    "| Customer_WID | {{str(df.Customer_WID.dtypes)}} |{{df.Customer_WID.isna().sum()}} |Unique customer identifier |  |\n",
    "| DisbursementDate | {{str(df.DisbursementDate.dtypes)}} |{{df.DisbursementDate.isna().sum()}}| Date, when loan was disbursed  ||\n",
    "| Age | {{str(df.Age.dtypes)}} | {{df.Age.isna().sum()}}| Customer age  ||\n",
    "| CustomerType | {{str(df.CustomerType.dtypes)}} | {{df.Age.isna().sum()}}|Internal customer type classification (1,2)||  \n",
    "| SOR | {{str(df.SOR.dtypes)}} | {{df.SOR.isna().sum()}}|A metric of customer relationship with the bank ||   \n",
    "| MonthsSinceOpen | {{str(df.MonthsSinceOpen.dtypes)}} | {{df.MonthsSinceOpen.isna().sum()}}|Number of months since first account for the customer  ||\n",
    "| FinancialMeasure1 | {{str(df.FinancialMeasure1.dtypes)}} |{{df.FinancialMeasure1.isna().sum()}}| Some measure of financial activity of a customer  ||\n",
    "| FinancialMeasure2 | {{str(df.FinancialMeasure2.dtypes)}} | {{df.FinancialMeasure2.isna().sum()}}|Some measure of financial activity of a customer  ||\n",
    "| FinancialMeasure3 | {{str(df.FinancialMeasure3.dtypes)}} |{{df.FinancialMeasure3.isna().sum()}}| Some measure of financial activity of a customer ||\n",
    "| FinancialMeasure4 | {{str(df.FinancialMeasure4.dtypes)}} | {{df.FinancialMeasure4.isna().sum()}}|Some measure of financial activity of a customer  ||\n",
    "| CRBScore | {{str(df.CRBScore.dtypes)}} | {{df.CRBScore.isna().sum()}}|Credit rating bureau score  \n",
    "| Amount | {{str(df.Amount.dtypes)}} |{{df.Amount.isna().sum()}}| Loan amount || \n",
    "| **Default** | {{str(df.Default.dtypes)}} |{{df.Default.isna().sum()}}| 1 - Defaulted on this loan, 0 - paid||\n",
    "| AgeBin | {{str(df.AgeBin.dtypes)}} |{{df.AgeBin.isna().sum()}}| 'Age' binning to 5% quantile|\n",
    "| CRBScoreBin | {{str(df.CRBScoreBin.dtypes)}} |{{df.CRBScoreBin.isna().sum()}}| 'CRBScore' binning to 5% quantile|\n",
    "| MonthsSinceOpenBin | {{str(df.MonthsSinceOpenBin.dtypes)}} |{{df.MonthsSinceOpenBin.isna().sum()}}| 'MonthsSinceOpen' binning by 3 months|"
   ]
  },
  {
   "cell_type": "markdown",
   "metadata": {},
   "source": [
    "# Data exploration "
   ]
  },
  {
   "cell_type": "markdown",
   "metadata": {},
   "source": [
    "## General loan trends"
   ]
  },
  {
   "cell_type": "code",
   "execution_count": null,
   "metadata": {},
   "outputs": [],
   "source": [
    "tmp=df[['Age', 'CustomerType', 'SOR','CRBScore', 'Amount','Default']].iloc[:100]\n",
    "g=sns.pairplot(tmp, kind='reg', hue='Default', markers=['o', 's'], palette='husl')\n",
    "g.fig.suptitle('Paired scatter and regression plot',y=1.01,fontsize=24)\n",
    "plt.show()"
   ]
  },
  {
   "cell_type": "code",
   "execution_count": null,
   "metadata": {},
   "outputs": [],
   "source": [
    "corr_FM1_FM2=round(df[['FinancialMeasure3', 'FinancialMeasure4']].corr().iloc[1,0],3)\n",
    "corr_CRBScore_Amount=round(df[['CRBScore', 'Amount']].corr().iloc[1,0],3)\n",
    "corr_MonthsSinceOpen_Age=round(df[['MonthsSinceOpen', 'Age']].corr().iloc[1,0],3)\n",
    "corr_SOR_Amount=round(df[['SOR', 'Amount']].corr().iloc[1,0],3)\n",
    "tmp=df.iloc[:50,1:]\n",
    "corr_matrix=tmp.corr()\n",
    "heatmap(corr_matrix)"
   ]
  },
  {
   "cell_type": "markdown",
   "metadata": {},
   "source": [
    "**Paired scatter and regression plot** and **Correlation plot** above shows the following facts:  \n",
    "* All covariates have a small negative correlation with Default, the strongest correlation is with CRBScore (**{{corr_CRBScore_Amount}}**)\n",
    "* MonthsSinceOpen correlates with age (**{{corr_MonthsSinceOpen_Age}}**), telling that there is a substantial part of long term customers with the bank  \n",
    "* SOR correlates with Amount (**{{corr_SOR_Amount}}**), telling that perhaps SOR is used to set limits for a loan amount  \n",
    "* FinancialMeasures correlate with Amount, telling that FinancialMeasures could be customer income or average balances  \n",
    "* There is a very strong (**{{corr_FM1_FM2}}**) correlation between FinancialMeasure3 and FinancialMeasure4, which could make it more difficult to interpret regression coefficients. Perhaps we might need to use only one of them in our models.  "
   ]
  },
  {
   "cell_type": "code",
   "execution_count": null,
   "metadata": {},
   "outputs": [],
   "source": [
    "df_original.MonthsSinceActive.value_counts(dropna=False)"
   ]
  },
  {
   "cell_type": "markdown",
   "metadata": {},
   "source": [
    "In the original dataset **'MonthsSinceActive'** column has 11 'NaN' values and 1 value equals to '2', all others values are equal to '0'. It is a good indicator, it means that all customers are active. These column has been removed from **'df'** dataset because all values are the same and it will not help in prediction."
   ]
  },
  {
   "cell_type": "code",
   "execution_count": null,
   "metadata": {},
   "outputs": [],
   "source": [
    "tmp=df.groupby(['SOR','CustomerType'])['Customer_WID'].count().reset_index(name='LoanCount')\n",
    "tmp=tmp.pivot(index='SOR',columns = 'CustomerType', values='LoanCount')\n",
    "tmp.columns = ['Customer Type 1', 'Customer Type 2']\n",
    "tmp['SOR'] = tmp.index\n",
    "tmp.SOR = tmp.SOR.astype(np.int)\n",
    "tmp = tmp.fillna(0)\n",
    "stacked_barplot(data=tmp, x='SOR', y=['Customer Type 1', 'Customer Type 2'], \\\n",
    "        title='SOR distribution', xlabel='SOR', ylabel='Loan Count')"
   ]
  },
  {
   "cell_type": "markdown",
   "metadata": {},
   "source": [
    "The majority of customers are in **'SOR'** 5.  \n",
    "Distribution of customer type 1 and customer type 2 are stable."
   ]
  },
  {
   "cell_type": "markdown",
   "metadata": {},
   "source": [
    "In original dataset column **'DisbursementDate'** has type 'object', but contains date values so I made a type conversion to datetime in **'df'** dateset.  \n",
    "Loan Disbursement Dates in dataset starts at **{{DateContainer.min_month}} {{DateContainer.year}}** ends at **{{DateContainer.max_month}} {{DateContainer.year}}**, a period is equal to **{{DateContainer.month_day_count.months}}** months and **{{DateContainer.month_day_count.days}}** days"
   ]
  },
  {
   "cell_type": "code",
   "execution_count": null,
   "metadata": {},
   "outputs": [],
   "source": [
    "tmp=df.groupby(df['DisbursementDate'].dt.month)['Customer_WID']. \\\n",
    "        count().reset_index(name='LoanCount').sort_values('DisbursementDate')\n",
    "loan_count_per_month_mean=tmp.LoanCount.mean()\n",
    "loan_count_per_month_max=tmp.LoanCount.max()\n",
    "for i in range(len(tmp.DisbursementDate)):\n",
    "    tmp.DisbursementDate[i]=calendar.month_abbr[i+1]\n",
    "title='Count of loans per month'\n",
    "barplot(tmp, 'DisbursementDate','LoanCount', title, 'Loan Count', 'Months')"
   ]
  },
  {
   "cell_type": "code",
   "execution_count": null,
   "metadata": {},
   "outputs": [],
   "source": [
    "tmp=df.groupby(df['DisbursementDate'].dt.month)['Amount']. \\\n",
    "        sum().reset_index(name='LoanAmount').sort_values('DisbursementDate')\n",
    "loan_amount_per_month_mean=tmp.LoanAmount.mean()\n",
    "loan_amount_per_month_max=tmp.LoanAmount.max()\n",
    "for i in range(len(tmp.DisbursementDate)):\n",
    "    tmp.DisbursementDate[i]=calendar.month_abbr[i+1]  \n",
    "barplot(tmp, 'DisbursementDate','LoanAmount', 'Loan amount per month', 'Months', 'Loan Amount')"
   ]
  },
  {
   "cell_type": "markdown",
   "metadata": {},
   "source": [
    "Mainly loan disbursement trend is stable with **{{format_number(round(loan_count_per_month_mean))}}** loans for a total value of **{{format_number(round(loan_amount_per_month_mean))}}** on average per month.   \n",
    "But there appears to be a spike in March when **{{format_number(round(loan_count_per_month_max))}}** loan was issued for a total value of **{{format_number(round(loan_amount_per_month_max))}}**."
   ]
  },
  {
   "cell_type": "markdown",
   "metadata": {},
   "source": [
    "**Loan count and amount per day**  \n",
    "Min loan count in one day: **{{format_number(round(df.groupby(df.DisbursementDate).Customer_WID.count().min()))}}**  \n",
    "Max loan count in one day: **{{format_number(round(df.groupby(df_original.DisbursementDate).Customer_WID.count().max()))}}**  \n",
    "Avarege loan count in one day: **{{format_number(round(df.groupby(df.DisbursementDate).Customer_WID.count().mean()))}}**  \n",
    "\n",
    "Min loan amount in one day: **{{format_number(int(df.groupby(df_original.DisbursementDate).Amount.sum().min()))}}**  \n",
    "Max loan amount in one day: **{{format_number(int(df.groupby(df_original.DisbursementDate).Amount.sum().max()))}}**  \n",
    "Avarege loan amount in one day: **{{format_number(round(df.groupby(df.DisbursementDate).Amount.sum().mean()))}}**  "
   ]
  },
  {
   "cell_type": "code",
   "execution_count": null,
   "metadata": {},
   "outputs": [],
   "source": [
    "tmp = df.groupby('Customer_WID')['Customer_WID'].count().reset_index(name='LoanCount').\\\n",
    "groupby('LoanCount').count().reset_index().rename(columns={'Customer_WID': 'CustomerCount'})\n",
    "pct_repeat_customers=(tmp[tmp.LoanCount>1].CustomerCount.sum()/tmp.CustomerCount.sum())*100\n",
    "title='Number of costomers by loan count (%s - %s %s)' %(DateContainer.min_month_abbr,\n",
    "        DateContainer.max_month_abbr, DateContainer.year)\n",
    "barplot(tmp, 'LoanCount', 'CustomerCount', title, 'Loan Count', 'Customer Count')"
   ]
  },
  {
   "cell_type": "markdown",
   "metadata": {},
   "source": [
    "The chart above shows that **{{round(pct_repeat_customers,2)}}%** of customers have taken more than 1 loan in less than one year period"
   ]
  },
  {
   "cell_type": "code",
   "execution_count": null,
   "metadata": {},
   "outputs": [],
   "source": [
    "lineplot(df_original.groupby('Age')['Customer_WID'].count(),\n",
    "         'Loan count by age',\n",
    "         'Customer Age',\n",
    "         'Loan Count'\n",
    "         )"
   ]
  },
  {
   "cell_type": "code",
   "execution_count": null,
   "metadata": {},
   "outputs": [],
   "source": [
    "age_less18_pct=round(df_original[df_original.Age<18]['Customer_WID'].count()\\\n",
    "                 /df_original['Customer_WID'].count()*100,3)\n",
    "age_more80_pct=round(df_original[(df_original.Age>80)&(df_original.Age<117)]['Customer_WID']\\\n",
    "                .count()/df_original['Customer_WID'].count()*100,3)\n",
    "age_117_pct=round(df_original[df_original.Age==117]['Customer_WID'].count() \\\n",
    "              /df_original['Customer_WID'].count()*100,3)\n",
    "age_118_count=df_original[df_original.Age==118]['Customer_WID'].count()\n",
    "age_18_80=df_original[(df_original.Age>=18)&(df_original.Age<=80)]"
   ]
  },
  {
   "cell_type": "markdown",
   "metadata": {},
   "source": [
    "The youngest customer is **{{int(df_original.Age.min())}}** years old  \n",
    "The eldest customer is **{{int(df_original.Age.max())}}** years old  \n",
    "\n",
    "The avarege customer age is **{{round(df_original.Age.mean())}}**.  \n",
    "Age median is **{{round(df_original.Age.median())}}**.  \n",
    "Age mode is **{{int(df_original.Age.mode())}}**, it means that the most customers take loans at 30 years.  \n",
    "Age standard deviation is **{{round(df_original.Age.std(),3)}}**\n",
    "\n",
    "**{{age_less18_pct}}%** customers are younger than 18 years,  in my analysis, I will suppose that loan can only be given to a person who is at least 18 years old.  \n",
    " \n",
    "**{{age_more80_pct}}%** customers are between 80 years and 117 years, also {{age_118_count}} customers are 118 years old. I am not sure that this data is valid and the row count is small so I will not take thid data, when I do age binning.   \n",
    "\n",
    "**{{age_117_pct}}%** is 117 years old. If a person born in 1900 and a loan was taken in 2017, customer can be 117 years old, but probably that is the earliest year that can be chosen and it has been put as default.  \n",
    "\n",
    "I have removed rows where customer age is less than 18 and more than 80 in **'df'** dataset, because those rows are not trustable. Age standard deviation will be changed from **{{round(df_original.Age.std(),3)}}** to **{{round(age_18_80.Age.std(),3)}}**"
   ]
  },
  {
   "cell_type": "code",
   "execution_count": null,
   "metadata": {},
   "outputs": [],
   "source": [
    "lineplot(df_original,\n",
    "         'Average loan amount over age with confidence interval',\n",
    "         'Customer Age',\n",
    "         'Loan Amount',\n",
    "         x='Age',\n",
    "         y='Amount',\n",
    "         )"
   ]
  },
  {
   "cell_type": "markdown",
   "metadata": {},
   "source": [
    "The line plot with error bands showing a confidence interval. For customer between 20 and 80 years errors a much smaller, than for customer who younger than 20 or elder than 80."
   ]
  },
  {
   "cell_type": "code",
   "execution_count": null,
   "metadata": {},
   "outputs": [],
   "source": [
    "tmp = df_original.groupby('CustomerType').count().reset_index()\n",
    "pct_loans_customer_1=(tmp[tmp.CustomerType==1.0].Customer_WID.sum()/tmp.Customer_WID.sum())*100\n",
    "pct_loans_customer_2=(tmp[tmp.CustomerType==2.0].Customer_WID.sum()/tmp.Customer_WID.sum())*100\n",
    "barplot(tmp, 'CustomerType', 'Customer_WID', 'Loan count by customer type', \\\n",
    "        'Customer Type', 'Loans', figsize=(18,6))"
   ]
  },
  {
   "cell_type": "markdown",
   "metadata": {},
   "source": [
    "Internal customer type classification contains two types: '1', '2', but dataset also have 2 customers with type '3' and one customer with type '0'.  \n",
    "I have deleted those 3 rows from **'df'** dataset.  \n",
    "The plot above shows that **{{round(pct_loans_customer_1,2)}}%** of the loans are issued to customer type **'1'** ** and **{{round(pct_loans_customer_2,2)}}%** to customer type **'2'**.  \n",
    "This leads me to believe that customer type **'1'** is a retail customer, while customer type **'2'** could be business or SME (small and medium enterprises) customer."
   ]
  },
  {
   "cell_type": "code",
   "execution_count": null,
   "metadata": {},
   "outputs": [],
   "source": [
    "amount_min_customer_1=df[df.CustomerType==1.0].Amount.min()\n",
    "amount_max_customer_1=df[df.CustomerType==1.0].Amount.max()\n",
    "amount_median_customer_1=df[df.CustomerType==1.0].Amount.median()\n",
    "amount_min_customer_2=df[df.CustomerType==2.0].Amount.min()\n",
    "amount_max_customer_2=df[df.CustomerType==2.0].Amount.max()\n",
    "amount_median_customer_2=df[df.CustomerType==2.0].Amount.median()\n",
    "densityplot(df_original[df_original.CustomerType.isin([1, 2])], 'Amount', 'CustomerType', \n",
    "        'Loan amount distribution by customer type', \n",
    "        'Loan amount', 'Density')"
   ]
  },
  {
   "cell_type": "code",
   "execution_count": null,
   "metadata": {},
   "outputs": [],
   "source": [
    "boxplot(df, 'CustomerType', 'Amount', 'Amount of loan per Customer Type', \\\n",
    "        'Customer Type', 'Amount', yscale='log')"
   ]
  },
  {
   "cell_type": "markdown",
   "metadata": {},
   "source": [
    "Medium amount for customer **'1'** is **{{format_number(amount_median_customer_1)}}** that is lower than median for costomer **'2'** with median **{{format_number(amount_median_customer_2)}}**.  \n",
    "Customer type **'2'** distrubution is wider than customer type **'1'** distribution.  \n",
    "The minimum amount is **{{format_number(amount_min_customer_2)}}**, the maximum amount is **{{format_number(int(amount_max_customer_1))}}** for customer **'1'** and **'2'**"
   ]
  },
  {
   "cell_type": "markdown",
   "metadata": {},
   "source": [
    "## Default predictors"
   ]
  },
  {
   "cell_type": "markdown",
   "metadata": {},
   "source": [
    "Lets start predictor exploration with **Credit Rating Bureau score** "
   ]
  },
  {
   "cell_type": "code",
   "execution_count": null,
   "metadata": {},
   "outputs": [],
   "source": [
    "lineplot(df, \n",
    "         'Probability of default by CBR Score', \n",
    "         'CBR Score Groups', \n",
    "         'Probability of default', \n",
    "          x='CRBScoreBin', \n",
    "          y='Default', xticks=10,percent=True\n",
    "          )"
   ]
  },
  {
   "cell_type": "markdown",
   "metadata": {},
   "source": [
    "In general **Credit Rating Bureau score** is predictive and the higher the score, the lower the probability of default is. But also score has bad discriminative power between **542** and **588**, where the probability of default is not monotone."
   ]
  },
  {
   "cell_type": "code",
   "execution_count": null,
   "metadata": {},
   "outputs": [],
   "source": [
    "lineplot(df, \n",
    "         'Probability of default by age group', \n",
    "         'Customer Age Groups', \n",
    "         'Probability of default', \n",
    "          x='AgeBin', \n",
    "          y='Default', xticks=12,percent=True\n",
    "          )"
   ]
  },
  {
   "cell_type": "markdown",
   "metadata": {},
   "source": [
    "Across these **age groups** probability of default varies between approximately from **1%** to **5%**.  \n",
    "In general probability of default is lower in older age groups."
   ]
  },
  {
   "cell_type": "code",
   "execution_count": null,
   "metadata": {},
   "outputs": [],
   "source": [
    "lineplot(df, \n",
    "         'Probability of default by months since account is open', \n",
    "         'Months', \n",
    "         'Probability of default', \n",
    "          x='MonthsSinceOpenBin', \n",
    "          y='Default', xticks=12,percent=True\n",
    "          )"
   ]
  },
  {
   "cell_type": "code",
   "execution_count": null,
   "metadata": {},
   "outputs": [],
   "source": [
    "tmp = df.groupby('MonthsSinceOpen').Default.mean().reset_index(name='DefaultRate')\n",
    "default_rate_more_10=tmp[tmp.DefaultRate>0.10]\n",
    "default_rate_for_oldest_account=tmp.DefaultRate[tmp.MonthsSinceOpen==tmp.MonthsSinceOpen.max()].sum()\n",
    "default_rate_more_10"
   ]
  },
  {
   "cell_type": "markdown",
   "metadata": {},
   "source": [
    "Recently joined customers (account is opened 4 or 5 months ago) exibit considerably higher probability of default, between 15% and 24%. \n",
    "If the account is older than 2 years, the probability of default is under 5% and monotonically decreases further. \n",
    "The oldest account was opened {{int(round(tmp.MonthsSinceOpen.max()/12))}} years ago and it dafault rate is {{round(default_rate_for_oldest_account*100,2)}}%."
   ]
  },
  {
   "cell_type": "code",
   "execution_count": null,
   "metadata": {},
   "outputs": [],
   "source": [
    "\n",
    "lineplot(df, \n",
    "         'Probability of default by FinancialMeasure1', \n",
    "         'Financial Measure 1', \n",
    "         'Probability of default', \n",
    "          x='FinancialMeasure1Bin', \n",
    "          y='Default', xticks=12,percent=True\n",
    "          )"
   ]
  },
  {
   "cell_type": "code",
   "execution_count": null,
   "metadata": {},
   "outputs": [],
   "source": [
    "tmp = df.groupby('FinancialMeasure2Bin')\n",
    "tmp = tmp.agg({'Default': 'mean', 'FinancialMeasure2': 'mean'})                                                                                                                            \n",
    "lineplot(tmp[tmp.FinancialMeasure2<40000], \n",
    "         'Probability of default by FinancialMeasure2', \n",
    "         'Financial Measure 2', \n",
    "         'Probability of default', \n",
    "          x='FinancialMeasure2', \n",
    "          y='Default', xticks=12,percent=True, xscale='linear'\n",
    "          )"
   ]
  },
  {
   "cell_type": "code",
   "execution_count": null,
   "metadata": {},
   "outputs": [],
   "source": [
    "tmp = df.groupby('FinancialMeasure4Bin')\n",
    "tmp = tmp.agg({'Default': 'mean', 'FinancialMeasure4': 'mean'})                                                                                                                            \n",
    "lineplot(tmp[tmp.FinancialMeasure4<=200000], \n",
    "         'Probability of default by FinancialMeasure4', \n",
    "         'Financial Measure 4', \n",
    "         'Probability of default', \n",
    "          x='FinancialMeasure4', \n",
    "          y='Default', xticks=12,percent=True, xscale='linear'\n",
    "          )"
   ]
  },
  {
   "cell_type": "markdown",
   "metadata": {},
   "source": [
    "# Feature engineering "
   ]
  },
  {
   "cell_type": "markdown",
   "metadata": {},
   "source": [
    "## Feature - day of the month"
   ]
  },
  {
   "cell_type": "markdown",
   "metadata": {},
   "source": [
    "One potential new feature could be day of the month, when the loan was issued."
   ]
  },
  {
   "cell_type": "code",
   "execution_count": null,
   "metadata": {},
   "outputs": [],
   "source": [
    "# df['DisbursementDay']=df.DisbursementDate.dt.day"
   ]
  },
  {
   "cell_type": "code",
   "execution_count": null,
   "metadata": {},
   "outputs": [],
   "source": [
    "tmp = df.groupby('DisbursementDay').Default.mean().reset_index(name='DefaultRate')\n",
    "lineplot(df, \n",
    "         'Probability of default by day of the month', \n",
    "         'Day of the month', \n",
    "         'Probability of default', \n",
    "          x='DisbursementDay', \n",
    "          y='Default', xticks=12,percent=True\n",
    "          )"
   ]
  },
  {
   "cell_type": "markdown",
   "metadata": {},
   "source": [
    "It appears that default rate differs significantly enough across different days to include this feature in consideration."
   ]
  },
  {
   "cell_type": "markdown",
   "metadata": {},
   "source": [
    "## Feature -  number of loans before"
   ]
  },
  {
   "cell_type": "markdown",
   "metadata": {},
   "source": [
    "Another potential feature is number of loans issued previously to the same customer."
   ]
  },
  {
   "cell_type": "code",
   "execution_count": null,
   "metadata": {},
   "outputs": [],
   "source": [
    "# tmp = df.groupby(['Customer_WID', 'DisbursementDate']).Customer_WID.count().reset_index(name='LoanCount')\n",
    "# tmp = tmp.sort_values(['Customer_WID', 'DisbursementDate'])\n",
    "# tmp['PreviousLoans'] = tmp.groupby(['Customer_WID']).LoanCount.cumsum(axis = 0) - 1\n",
    "# del tmp['LoanCount']\n",
    "# if 'PreviousLoans' in df.columns:\n",
    "#     del df['PreviousLoans']\n",
    "# df = pd.merge(df, tmp, how='left', on=['Customer_WID', 'DisbursementDate'])"
   ]
  },
  {
   "cell_type": "code",
   "execution_count": null,
   "metadata": {},
   "outputs": [],
   "source": [
    "lineplot(df, \n",
    "         'Probability of default by number of previous loans', \n",
    "         'Number of loans issued before', \n",
    "         'Probability of default', \n",
    "          x='PreviousLoans', \n",
    "          y='Default', xticks=12,percent=True\n",
    "          )"
   ]
  },
  {
   "cell_type": "markdown",
   "metadata": {},
   "source": [
    "Default rate goes down substantially with the number of loans customer has taken previously."
   ]
  },
  {
   "cell_type": "markdown",
   "metadata": {},
   "source": [
    "## Weight of evidence transformation"
   ]
  },
  {
   "cell_type": "markdown",
   "metadata": {},
   "source": [
    "Weight of evidence transformation is a way to bin continuous variables and introduce non-linearity to linear or GLM model.  \n",
    "It is done in two steps, first variable is split into fine classes (usually into 20-40 classes by quantiles) and then adjacent classes are merged if they have similar weight of evidence value. Weight of evidence value is calculated as \n",
    "\\begin{equation*}\n",
    "\\mathbf{WOE} =\\mathbf{\\displaystyle{ln}}\\Bigl(\\frac{\\%\\ of\\ non-events}{\\%\\ of\\ events}\\Bigr)\n",
    "\\end{equation*}"
   ]
  },
  {
   "cell_type": "markdown",
   "metadata": {},
   "source": [
    "Since weight of evidence transformation of covariates is done by measuring their influence on dependent variable, this transformation should be estimated on train dataset to prevent data leakage from test dataset.  \n",
    "Train/test split will be done in proportion of **70%/30%** and **stratified** on Default column."
   ]
  },
  {
   "cell_type": "code",
   "execution_count": null,
   "metadata": {},
   "outputs": [],
   "source": [
    "# X_train, X_test, y_train, y_test=splitDataset(df[['Age', 'CustomerType', 'SOR',\n",
    "#                                                 'MonthsSinceOpen', 'FinancialMeasure1', 'FinancialMeasure2',\n",
    "#                                                 'FinancialMeasure4', 'CRBScore', 'PreviousLoans',\n",
    "#                                                  'DisbursementDay', 'Amount']], \n",
    "#                                                  df['Default']) "
   ]
  },
  {
   "cell_type": "code",
   "execution_count": null,
   "metadata": {},
   "outputs": [],
   "source": [
    "# X_train = X_train.drop(columns='Amount')\n",
    "# X_test_amount = X_test.Amount\n",
    "# X_test = X_test.drop(columns='Amount')"
   ]
  },
  {
   "cell_type": "code",
   "execution_count": null,
   "metadata": {
    "scrolled": false
   },
   "outputs": [],
   "source": [
    "df_sample = Dataset.X_train[['Age', 'MonthsSinceOpen', 'FinancialMeasure1', 'FinancialMeasure2',\n",
    "        'FinancialMeasure4', 'CRBScore','PreviousLoans','DisbursementDay']].copy()\n",
    "df_sample['Default'] = Dataset.y_train\n",
    "optimal_bin = sc.woebin(df_sample, 'Default')"
   ]
  },
  {
   "cell_type": "code",
   "execution_count": null,
   "metadata": {},
   "outputs": [],
   "source": [
    "x_train_woe = sc.woebin_ply(X_train, optimal_bin)\n",
    "x_test_woe = sc.woebin_ply(X_test, optimal_bin)"
   ]
  },
  {
   "cell_type": "code",
   "execution_count": null,
   "metadata": {},
   "outputs": [],
   "source": [
    "sc.woebin_plot(optimal_bin)\n",
    "plt.show()"
   ]
  },
  {
   "cell_type": "markdown",
   "metadata": {
    "variables": {
     "df.Age.isna().sum()": "<p><strong>NameError</strong>: name &#39;df&#39; is not defined</p>\n",
     "df.AgeBin.isna().sum()": "<p><strong>NameError</strong>: name &#39;df&#39; is not defined</p>\n",
     "df.Amount.isna().sum()": "<p><strong>NameError</strong>: name &#39;df&#39; is not defined</p>\n",
     "df.CRBScore.isna().sum()": "<p><strong>NameError</strong>: name &#39;df&#39; is not defined</p>\n",
     "df.CRBScoreBin.isna().sum()": "<p><strong>NameError</strong>: name &#39;df&#39; is not defined</p>\n",
     "df.Customer_WID.isna().sum()": "<p><strong>NameError</strong>: name &#39;df&#39; is not defined</p>\n",
     "df.Default.isna().sum()": "<p><strong>NameError</strong>: name &#39;df&#39; is not defined</p>\n",
     "df.DisbursementDate.isna().sum()": "<p><strong>NameError</strong>: name &#39;df&#39; is not defined</p>\n",
     "df.FinancialMeasure1.isna().sum()": "<p><strong>NameError</strong>: name &#39;df&#39; is not defined</p>\n",
     "df.FinancialMeasure2.isna().sum()": "<p><strong>NameError</strong>: name &#39;df&#39; is not defined</p>\n",
     "df.FinancialMeasure3.isna().sum()": "<p><strong>NameError</strong>: name &#39;df&#39; is not defined</p>\n",
     "df.FinancialMeasure4.isna().sum()": "<p><strong>NameError</strong>: name &#39;df&#39; is not defined</p>\n",
     "df.MonthsSinceOpen.isna().sum()": "<p><strong>NameError</strong>: name &#39;df&#39; is not defined</p>\n",
     "df.MonthsSinceOpenBin.isna().sum()": "<p><strong>NameError</strong>: name &#39;df&#39; is not defined</p>\n",
     "df.SOR.isna().sum()": "<p><strong>NameError</strong>: name &#39;df&#39; is not defined</p>\n",
     "len(df.columns)": "<p><strong>NameError</strong>: name &#39;df&#39; is not defined</p>\n",
     "len(df.index)": "<p><strong>NameError</strong>: name &#39;df&#39; is not defined</p>\n",
     "str(df.Age.dtypes)": "<p><strong>NameError</strong>: name &#39;df&#39; is not defined</p>\n",
     "str(df.AgeBin.dtypes)": "<p><strong>NameError</strong>: name &#39;df&#39; is not defined</p>\n",
     "str(df.Amount.dtypes)": "<p><strong>NameError</strong>: name &#39;df&#39; is not defined</p>\n",
     "str(df.CRBScore.dtypes)": "<p><strong>NameError</strong>: name &#39;df&#39; is not defined</p>\n",
     "str(df.CRBScoreBin.dtypes)": "<p><strong>NameError</strong>: name &#39;df&#39; is not defined</p>\n",
     "str(df.CustomerType.dtypes)": "<p><strong>NameError</strong>: name &#39;df&#39; is not defined</p>\n",
     "str(df.Customer_WID.dtypes)": "<p><strong>NameError</strong>: name &#39;df&#39; is not defined</p>\n",
     "str(df.Default.dtypes)": "<p><strong>NameError</strong>: name &#39;df&#39; is not defined</p>\n",
     "str(df.DisbursementDate.dtypes)": "<p><strong>NameError</strong>: name &#39;df&#39; is not defined</p>\n",
     "str(df.FinancialMeasure1.dtypes)": "<p><strong>NameError</strong>: name &#39;df&#39; is not defined</p>\n",
     "str(df.FinancialMeasure2.dtypes)": "<p><strong>NameError</strong>: name &#39;df&#39; is not defined</p>\n",
     "str(df.FinancialMeasure3.dtypes)": "<p><strong>NameError</strong>: name &#39;df&#39; is not defined</p>\n",
     "str(df.FinancialMeasure4.dtypes)": "<p><strong>NameError</strong>: name &#39;df&#39; is not defined</p>\n",
     "str(df.MonthsSinceOpen.dtypes)": "<p><strong>NameError</strong>: name &#39;df&#39; is not defined</p>\n",
     "str(df.MonthsSinceOpenBin.dtypes)": "<p><strong>NameError</strong>: name &#39;df&#39; is not defined</p>\n",
     "str(df.SOR.dtypes)": "<p><strong>NameError</strong>: name &#39;df&#39; is not defined</p>\n"
    }
   },
   "source": [
    "**df** - dataset is cleaned using following steps:\n",
    "* 11 rows with NA values are removed\n",
    "* column 'DisbursementDate' type is changed from object to datetime\n",
    "* column 'Age' - rows are removed, where age is above 18 and below 80 \n",
    "* column 'CustomerType' - rows are removed, where type is 0 or 3\n",
    "* column 'MonthsSinceActive' is deleted\n",
    "* column 'AgeBin' is added ('Age' binning to 5% quantile)\n",
    "* column 'CRBScoreBin' is added ('CRBScore' binning to 5% quantile)\n",
    "* column 'MonthsSinceOpenBin' is added ('MonthsSinceOpen' binning by 3 months)\n",
    "\n",
    "Row count: **{{len(df.index)}}**  \n",
    "Column count: **{{len(df.columns)}}**   \n",
    "\n",
    "|Column | Data Type |NaN value count|Description | Comment|\n",
    "|:-----|:---------|--------|---|---|  \n",
    "| Customer_WID | {{str(df.Customer_WID.dtypes)}} |{{df.Customer_WID.isna().sum()}} |Unique customer identifier |  |\n",
    "| DisbursementDate | {{str(df.DisbursementDate.dtypes)}} |{{df.DisbursementDate.isna().sum()}}| Date, when loan was disbursed  ||\n",
    "| Age | {{str(df.Age.dtypes)}} | {{df.Age.isna().sum()}}| Customer age  ||\n",
    "| CustomerType | {{str(df.CustomerType.dtypes)}} | {{df.Age.isna().sum()}}|Internal customer type classification (1,2)||  \n",
    "| SOR | {{str(df.SOR.dtypes)}} | {{df.SOR.isna().sum()}}|A metric of customer relationship with the bank ||   \n",
    "| MonthsSinceOpen | {{str(df.MonthsSinceOpen.dtypes)}} | {{df.MonthsSinceOpen.isna().sum()}}|Number of months since first account for the customer  ||\n",
    "| FinancialMeasure1 | {{str(df.FinancialMeasure1.dtypes)}} |{{df.FinancialMeasure1.isna().sum()}}| Some measure of financial activity of a customer  ||\n",
    "| FinancialMeasure2 | {{str(df.FinancialMeasure2.dtypes)}} | {{df.FinancialMeasure2.isna().sum()}}|Some measure of financial activity of a customer  ||\n",
    "| FinancialMeasure3 | {{str(df.FinancialMeasure3.dtypes)}} |{{df.FinancialMeasure3.isna().sum()}}| Some measure of financial activity of a customer ||\n",
    "| FinancialMeasure4 | {{str(df.FinancialMeasure4.dtypes)}} | {{df.FinancialMeasure4.isna().sum()}}|Some measure of financial activity of a customer  ||\n",
    "| CRBScore | {{str(df.CRBScore.dtypes)}} | {{df.CRBScore.isna().sum()}}|Credit rating bureau score  \n",
    "| Amount | {{str(df.Amount.dtypes)}} |{{df.Amount.isna().sum()}}| Loan amount || \n",
    "| **Default** | {{str(df.Default.dtypes)}} |{{df.Default.isna().sum()}}| 1 - Defaulted on this loan, 0 - paid||\n",
    "| AgeBin | {{str(df.AgeBin.dtypes)}} |{{df.AgeBin.isna().sum()}}| 'Age' binning to 5% quantile|\n",
    "| CRBScoreBin | {{str(df.CRBScoreBin.dtypes)}} |{{df.CRBScoreBin.isna().sum()}}| 'CRBScore' binning to 5% quantile|\n",
    "| MonthsSinceOpenBin | {{str(df.MonthsSinceOpenBin.dtypes)}} |{{df.MonthsSinceOpenBin.isna().sum()}}| 'MonthsSinceOpen' binning by 3 months|"
   ]
  },
  {
   "cell_type": "markdown",
   "metadata": {},
   "source": [
    "# Feature selection "
   ]
  },
  {
   "cell_type": "markdown",
   "metadata": {},
   "source": [
    "**List of features, which are included models:**  \n",
    "* 'Age'\n",
    "* 'CustomerType'\n",
    "* 'SOR'\n",
    "* 'MonthsSinceOpen'\n",
    "* 'FinancialMeasure1', 'FinancialMeasure2', 'FinancialMeasure4'\n",
    "* 'CRBScore'\n",
    "* 'PreviousLoans'\n",
    "* 'DisbursementDay'"
   ]
  },
  {
   "cell_type": "markdown",
   "metadata": {},
   "source": [
    "# Modeling \n",
    "Describe different binary classification models you used for this project. Ensure that you are correctly splitting dataset into train and test.\n",
    "Model evaluation - describe which metrics you used for model comparison and why. Compare models fit in step 6 using technical and business measures (potential revenue lift from using one model instead of another, refer to Business variables section).\n",
    "Recommendation - a small section, where you recommend one of the models built in section 6 and 7 for utilization in production. Make sure to describe why using business evaluation terms.\n",
    "Conclusion - final conclusions. Describe your thoughts about the project, is it worth to put resulting model in production, what additional data could benefit your model.\n",
    "<font color=red>\n",
    "For credit scoring it is crucially important to start of with model, that is explainable and robust to outliers. Then you might want to investigate more complicated models, and provide a tradeof between explainability and predictive power.   \n",
    "At the end you need to provide estimated monthly revenue by using your credit scoring model (refer to business variables above) and what is the cutoff for loan acceptance.</font>"
   ]
  },
  {
   "cell_type": "markdown",
   "metadata": {},
   "source": [
    "## Linear regression model"
   ]
  },
  {
   "cell_type": "markdown",
   "metadata": {},
   "source": [
    "Initialize linear regression model"
   ]
  },
  {
   "cell_type": "code",
   "execution_count": null,
   "metadata": {},
   "outputs": [],
   "source": [
    "lm = linear_model.LinearRegression()"
   ]
  },
  {
   "cell_type": "markdown",
   "metadata": {},
   "source": [
    "Training model"
   ]
  },
  {
   "cell_type": "code",
   "execution_count": null,
   "metadata": {},
   "outputs": [],
   "source": [
    "lm.fit(x_train_woe, y_train)"
   ]
  },
  {
   "cell_type": "markdown",
   "metadata": {},
   "source": [
    "**$\\displaystyle \\beta _{0}$** - Trained model intercept: {{round(lm.intercept_.sum(),7)}} \n",
    "\n",
    "**$\\displaystyle \\beta _{i}$** $(i=0, \\ldots, \\displaystyle{9})$ -  Trained model coefficients:  \n",
    "* '{{x_train_woe.columns\\[0\\]}}'  {{round(lm.coef_\\[0\\],7)}}\n",
    "* '{{x_train_woe.columns\\[1\\]}}'  {{round(lm.coef_\\[1\\],7)}}\n",
    "* '{{x_train_woe.columns\\[2\\]}}'  {{round(lm.coef_\\[2\\],7)}}\n",
    "* '{{x_train_woe.columns\\[3\\]}}'  {{round(lm.coef_\\[3\\],7)}}\n",
    "* '{{x_train_woe.columns\\[4\\]}}'  {{round(lm.coef_\\[4\\],7)}}\n",
    "* '{{x_train_woe.columns\\[5\\]}}'  {{round(lm.coef_\\[5\\],7)}}\n",
    "* '{{x_train_woe.columns\\[6\\]}}'  {{round(lm.coef_\\[6\\],7)}}\n",
    "* '{{x_train_woe.columns\\[7\\]}}'  {{round(lm.coef_\\[7\\],7)}}\n",
    "* '{{x_train_woe.columns\\[8\\]}}'  {{round(lm.coef_\\[8\\],7)}}\n",
    "* '{{x_train_woe.columns\\[9\\]}}'  {{round(lm.coef_\\[9\\],7)}}"
   ]
  },
  {
   "cell_type": "markdown",
   "metadata": {},
   "source": [
    "Make predictions"
   ]
  },
  {
   "cell_type": "code",
   "execution_count": null,
   "metadata": {},
   "outputs": [],
   "source": [
    "y_predict_lm = lm.predict(x_test_woe)"
   ]
  },
  {
   "cell_type": "code",
   "execution_count": null,
   "metadata": {},
   "outputs": [],
   "source": [
    "kdeplot(data=y_predict_lm, title='Linear model prediction score destribution', \n",
    "        xlabel='Score', ylabel='Count', figsize=(18, 8), xticks=16)"
   ]
  },
  {
   "cell_type": "markdown",
   "metadata": {},
   "source": [
    "## Linear regression model evaluation"
   ]
  },
  {
   "cell_type": "code",
   "execution_count": null,
   "metadata": {},
   "outputs": [],
   "source": [
    "X_test['Default'] = y_test\n",
    "X_test['Amount'] = X_test_amount\n",
    "a = calculate_revenue_curve(X_test, y_predict_lm)"
   ]
  },
  {
   "cell_type": "code",
   "execution_count": null,
   "metadata": {},
   "outputs": [],
   "source": [
    "b = calculate_revenue_curve(X_test, -X_test.CRBScore)\n",
    "X_test = X_test.drop(columns='Default')\n",
    "X_test = X_test.drop(columns='Amount')\n",
    "(b.Revenue.max(), a.Revenue.max(), a.Revenue.max()/b.Revenue.max()-1)"
   ]
  },
  {
   "cell_type": "code",
   "execution_count": null,
   "metadata": {},
   "outputs": [],
   "source": [
    "lineplot(b, 'Revenue curve for CRBScore', 'CRBScore', 'Revenue', x='Threshold', y='Revenue')"
   ]
  },
  {
   "cell_type": "code",
   "execution_count": null,
   "metadata": {},
   "outputs": [],
   "source": [
    "lineplot(a, 'Revenue curve for CRBScore', 'CRBScore', 'Revenue', x='Threshold', y='Revenue')"
   ]
  },
  {
   "cell_type": "markdown",
   "metadata": {},
   "source": [
    "## Logistic regression model"
   ]
  },
  {
   "cell_type": "markdown",
   "metadata": {},
   "source": [
    "Initialize logistic regression model"
   ]
  },
  {
   "cell_type": "code",
   "execution_count": null,
   "metadata": {},
   "outputs": [],
   "source": [
    "log_model = linear_model.LogisticRegression(solver='lbfgs',max_iter=1000)"
   ]
  },
  {
   "cell_type": "markdown",
   "metadata": {},
   "source": [
    "Training model"
   ]
  },
  {
   "cell_type": "code",
   "execution_count": null,
   "metadata": {},
   "outputs": [],
   "source": [
    "log_model.fit(x_train_woe, y_train)"
   ]
  },
  {
   "cell_type": "markdown",
   "metadata": {},
   "source": [
    "**$\\displaystyle \\beta _{0}$** - Trained model intercept: {{round(log_model.intercept_.sum(),7)}} \n",
    "\n",
    "**$\\displaystyle \\beta _{i}$** $(i=0, \\ldots, \\displaystyle{9})$ -  Trained model coefficients:  \n",
    "* '{{x_train_woe.columns\\[0\\]}}'  {{round(log_model.coef_\\[0\\]\\[0\\],7)}}\n",
    "* '{{x_train_woe.columns\\[1\\]}}'  {{round(log_model.coef_\\[0\\]\\[1\\],7)}}\n",
    "* '{{x_train_woe.columns\\[2\\]}}'  {{round(log_model.coef_\\[0\\]\\[2\\],7)}}\n",
    "* '{{x_train_woe.columns\\[3\\]}}'  {{round(log_model.coef_\\[0\\]\\[3\\],7)}}\n",
    "* '{{x_train_woe.columns\\[4\\]}}'  {{round(log_model.coef_\\[0\\]\\[4\\],7)}}\n",
    "* '{{x_train_woe.columns\\[5\\]}}'  {{round(log_model.coef_\\[0\\]\\[5\\],7)}}\n",
    "* '{{x_train_woe.columns\\[6\\]}}'  {{round(log_model.coef_\\[0\\]\\[6\\],7)}}\n",
    "* '{{x_train_woe.columns\\[7\\]}}'  {{round(log_model.coef_\\[0\\]\\[7\\],7)}}\n",
    "* '{{x_train_woe.columns\\[8\\]}}'  {{round(log_model.coef_\\[0\\]\\[8\\],7)}}\n",
    "* '{{x_train_woe.columns\\[9\\]}}'  {{round(log_model.coef_\\[0\\]\\[9\\],7)}}"
   ]
  },
  {
   "cell_type": "markdown",
   "metadata": {},
   "source": [
    "Make predictions"
   ]
  },
  {
   "cell_type": "code",
   "execution_count": null,
   "metadata": {},
   "outputs": [],
   "source": [
    "y_predict_log = log_model.predict_proba(x_test_woe)[:,1]"
   ]
  },
  {
   "cell_type": "code",
   "execution_count": null,
   "metadata": {},
   "outputs": [],
   "source": [
    "kdeplot(data=y_predict_log, title='Logistic model prediction score destribution', \n",
    "        xlabel='Score', ylabel='Count', figsize=(18, 8), xticks=16)"
   ]
  },
  {
   "cell_type": "markdown",
   "metadata": {},
   "source": [
    "Generate table of predictions vs actual"
   ]
  },
  {
   "cell_type": "code",
   "execution_count": null,
   "metadata": {},
   "outputs": [],
   "source": [
    "pd.crosstab(y_predict_log>0.023,y_test)"
   ]
  },
  {
   "cell_type": "code",
   "execution_count": null,
   "metadata": {},
   "outputs": [],
   "source": []
  },
  {
   "cell_type": "code",
   "execution_count": null,
   "metadata": {},
   "outputs": [],
   "source": [
    "# # View confusion matrix\n",
    "# metrics.confusion_matrix(y_true=y_test,  # True labels\n",
    "#                          y_pred=y_predict_log) # Predicted labels"
   ]
  },
  {
   "cell_type": "code",
   "execution_count": null,
   "metadata": {},
   "outputs": [],
   "source": [
    "# print(metrics.classification_report(y_true=y_test,\n",
    "#                               y_pred=y_predict_log)) "
   ]
  },
  {
   "cell_type": "markdown",
   "metadata": {},
   "source": [
    "## Support Vector Machines model"
   ]
  },
  {
   "cell_type": "code",
   "execution_count": null,
   "metadata": {},
   "outputs": [],
   "source": [
    "\n"
   ]
  },
  {
   "cell_type": "markdown",
   "metadata": {},
   "source": [
    "**Feature scaling (data normalization)**  \n",
    "\n",
    "Method used to **standardize** the range of independent variables or features of data  \n",
    "The standard score of a sample $\\displaystyle{x}$ is calculated as:  \n",
    "$\\displaystyle{x}'=\\frac{x-\\bar{x}}{\\sigma}$, where  \n",
    "$\\bar{x}$ is the mean of the training samples  \n",
    "$\\sigma$ is the standard deviation of the training samples"
   ]
  },
  {
   "cell_type": "markdown",
   "metadata": {},
   "source": [
    "### SVC with linear kernel"
   ]
  },
  {
   "cell_type": "code",
   "execution_count": null,
   "metadata": {},
   "outputs": [],
   "source": [
    "svm_linear = pickle.load(open(absolute_path('svm_linear.model'), 'rb'))"
   ]
  },
  {
   "cell_type": "code",
   "execution_count": null,
   "metadata": {},
   "outputs": [],
   "source": [
    "y_predict_smv_linear = svm_linear.predict_proba(Dataset.X_test)[:,1]"
   ]
  },
  {
   "cell_type": "markdown",
   "metadata": {},
   "source": [
    "### SVC with Radial basis function (RBF) kernel"
   ]
  },
  {
   "cell_type": "code",
   "execution_count": null,
   "metadata": {},
   "outputs": [],
   "source": [
    "svm_rbf = pickle.load(open(absolute_path('svm_rbf.model'), 'rb'))"
   ]
  },
  {
   "cell_type": "code",
   "execution_count": null,
   "metadata": {},
   "outputs": [],
   "source": [
    "y_predict_smv_rbf=svm_rbf.predict_proba(Dataset.X_test)[:,1]"
   ]
  },
  {
   "cell_type": "markdown",
   "metadata": {},
   "source": [
    "### SVC with polynomial (degree 2) kernel"
   ]
  },
  {
   "cell_type": "code",
   "execution_count": null,
   "metadata": {},
   "outputs": [],
   "source": [
    "svm_poly = pickle.load(open(absolute_path('svm_poly.model'), 'rb'))"
   ]
  },
  {
   "cell_type": "code",
   "execution_count": null,
   "metadata": {},
   "outputs": [],
   "source": [
    "y_predict_smv_poly = svm_poly.predict_proba(Dataset.X_test)[:,1]"
   ]
  },
  {
   "cell_type": "markdown",
   "metadata": {},
   "source": [
    "## Random forest"
   ]
  },
  {
   "cell_type": "code",
   "execution_count": null,
   "metadata": {},
   "outputs": [],
   "source": [
    "from sklearn.ensemble import RandomForestClassifier, GradientBoostingClassifier"
   ]
  },
  {
   "cell_type": "code",
   "execution_count": null,
   "metadata": {},
   "outputs": [],
   "source": [
    "clf = RandomForestClassifier(n_estimators=200, max_depth=5, min_samples_split=500, \n",
    "                             n_jobs=-1, random_state=0)\n",
    "rf=clf.fit(X_train, y_train)"
   ]
  },
  {
   "cell_type": "code",
   "execution_count": null,
   "metadata": {},
   "outputs": [],
   "source": [
    "y_predict_rf = rf.predict_proba(X_test)[:,1]"
   ]
  },
  {
   "cell_type": "code",
   "execution_count": null,
   "metadata": {},
   "outputs": [],
   "source": [
    "y_predict_rf "
   ]
  },
  {
   "cell_type": "markdown",
   "metadata": {},
   "source": [
    "## Gradient Boosting Classifier"
   ]
  },
  {
   "cell_type": "code",
   "execution_count": null,
   "metadata": {},
   "outputs": [],
   "source": [
    "clf = GradientBoostingClassifier(learning_rate=0.1,n_estimators=200,subsample=0.5,max_depth=5)\n",
    "gb=clf.fit(X_train, y_train)"
   ]
  },
  {
   "cell_type": "code",
   "execution_count": null,
   "metadata": {},
   "outputs": [],
   "source": [
    "y_predict_gb = gb.predict_proba(X_test)[:,1]"
   ]
  },
  {
   "cell_type": "markdown",
   "metadata": {},
   "source": [
    "# Model evaluation \n",
    "Describe which metrics you used for model comparison and why. Compare models fit in step 6 using technical and business measures (potential revenue lift from using one model instead of another, refer to Business variables section).\n",
    "Recommendation - a small section, where you recommend one of the models built in section 6 and 7 for utilization in production. Make sure to describe why using business evaluation terms.\n",
    "Conclusion - final conclusions. Describe your thoughts about the project, is it worth to put resulting model in production, what additional data could benefit your model."
   ]
  },
  {
   "cell_type": "code",
   "execution_count": null,
   "metadata": {},
   "outputs": [],
   "source": [
    "rocplot(y_test, [-X_test.CRBScore, y_predict_lm, y_predict_log, \\\n",
    "                 y_predict_smv_linear,y_predict_rf, y_predict_gb], \n",
    "        ['CRBScore', 'Linear Regression', 'Logistic Regression', \\\n",
    "         'Linear SVM','Random forest', 'Gradient Boosting'])"
   ]
  },
  {
   "cell_type": "markdown",
   "metadata": {},
   "source": [
    "Potential revenue comparison"
   ]
  },
  {
   "cell_type": "code",
   "execution_count": null,
   "metadata": {},
   "outputs": [],
   "source": [
    "X_test['Default'] = y_test\n",
    "X_test['Amount'] = X_test_amount\n",
    "rev_lm = calculate_revenue_curve(X_test, y_predict_lm)\n",
    "rev_log = calculate_revenue_curve(X_test, y_predict_log)\n",
    "rev_rf = calculate_revenue_curve(X_test, y_predict_rf)\n",
    "rev_gb = calculate_revenue_curve(X_test, y_predict_gb)\n",
    "rev_crb = calculate_revenue_curve(X_test, -X_test.CRBScore)"
   ]
  },
  {
   "cell_type": "code",
   "execution_count": null,
   "metadata": {},
   "outputs": [],
   "source": [
    "s=format_number(rev_crb.Revenue.max())\n",
    "s"
   ]
  },
  {
   "cell_type": "code",
   "execution_count": null,
   "metadata": {},
   "outputs": [],
   "source": [
    "from matplotlib.ticker import FuncFormatter\n",
    "x=0.01\n",
    "FuncFormatter('{0:.2f}%'.format(x))"
   ]
  },
  {
   "cell_type": "code",
   "execution_count": null,
   "metadata": {},
   "outputs": [],
   "source": [
    "rev_df = pd.DataFrame({\n",
    "    \"Model\": [\"CRB\", \"Linear Regression\", \"Logistic Regression\",\n",
    "              \"Random forest\", \"Gradient Boosting\"],\n",
    "    \"Revenue\": [rev_crb.Revenue.max(), \n",
    "                rev_lm.Revenue.max(), \n",
    "                rev_log.Revenue.max(), \n",
    "                rev_rf.Revenue.max(), \n",
    "                rev_gb.Revenue.max()],\n",
    "    \"Revenue1\": [format_number(rev_crb.Revenue.max()), \n",
    "                format_number(rev_lm.Revenue.max()), \n",
    "                format_number(rev_log.Revenue.max()), \n",
    "                format_number(rev_rf.Revenue.max()), \n",
    "                format_number(rev_gb.Revenue.max())]})\n",
    "\n",
    "rev_df[\"Lift\"] = round((rev_df.Revenue/rev_crb.Revenue.max()-1)*100,1)\n",
    "rev_df[\"Lift\"]=rev_df[\"Lift\"].astype('str')\n",
    "rev_df[\"Lift\"]=rev_df[\"Lift\"] + '%'\n",
    "# rev_df=rev_df.drop(columns='')\n",
    "df['Revenue']=format_number(df['Revenue'])\n",
    "rev_df"
   ]
  },
  {
   "cell_type": "markdown",
   "metadata": {},
   "source": [
    "# Recommendation \n",
    "A small section, where you recommend one of the models built in section 6 and 7 for utilization in production. Make sure to describe why using business evaluation terms.\n",
    "Conclusion - final conclusions. Describe your thoughts about the project, is it worth to put resulting model in production, what additional data could benefit your model."
   ]
  },
  {
   "cell_type": "markdown",
   "metadata": {},
   "source": [
    "# Conclusion \n",
    "Final conclusions. Describe your thoughts about the project, is it worth to put resulting model in production, what additional data could benefit your model."
   ]
  }
 ],
 "metadata": {
  "kernelspec": {
   "display_name": "Python 3",
   "language": "python",
   "name": "python3"
  },
  "language_info": {
   "codemirror_mode": {
    "name": "ipython",
    "version": 3
   },
   "file_extension": ".py",
   "mimetype": "text/x-python",
   "name": "python",
   "nbconvert_exporter": "python",
   "pygments_lexer": "ipython3",
   "version": "3.7.1"
  },
  "toc": {
   "base_numbering": 1,
   "nav_menu": {},
   "number_sections": true,
   "sideBar": true,
   "skip_h1_title": false,
   "title_cell": "Table of Contents",
   "title_sidebar": "Contents",
   "toc_cell": false,
   "toc_position": {},
   "toc_section_display": true,
   "toc_window_display": false
  }
 },
 "nbformat": 4,
 "nbformat_minor": 2
}
