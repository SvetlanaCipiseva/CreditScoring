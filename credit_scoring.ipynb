{
 "cells": [
  {
   "cell_type": "markdown",
   "metadata": {},
   "source": [
    "# Credit scoring  <a class=\"tocSkip\">"
   ]
  },
  {
   "cell_type": "code",
   "execution_count": 1,
   "metadata": {},
   "outputs": [],
   "source": [
    "%matplotlib inline\n",
    "import pandas as pd\n",
    "import numpy as np\n",
    "import matplotlib.pyplot as plt\n",
    "import seaborn as sns\n",
    "\n",
    "import datetime\n",
    "import calendar\n",
    "\n",
    "from code_source.dataset import *\n",
    "from code_source.exploration.plots import *\n",
    "from code_source.exploration.dates import DateContainer\n",
    "\n",
    "pd.options.mode.chained_assignment = None"
   ]
  },
  {
   "cell_type": "markdown",
   "metadata": {},
   "source": [
    "# Problem statement \n",
    "\n",
    "**Objective**  \n",
    "Predict customers, who will default on a loan.  \n",
    "Maximaze revenue given business variables and developed predictive model.\n",
    "\n",
    "For business model evaluation consider using the following information:  \n",
    "* Loan application fee (paid only, when disbursed): 5% of Amount   \n",
    "* Annual interest rate: 13%   \n",
    "* When loan defaults, bank loses entire loaned amount. \n"
   ]
  },
  {
   "cell_type": "markdown",
   "metadata": {},
   "source": [
    "# Dataset description"
   ]
  },
  {
   "cell_type": "code",
   "execution_count": 2,
   "metadata": {},
   "outputs": [],
   "source": [
    "df_original=Dataset.get_data()"
   ]
  },
  {
   "cell_type": "markdown",
   "metadata": {},
   "source": [
    "**df_original** - original dataset  \n",
    "Dataset contains a sample of **one month loans**.  \n",
    "Every row in the table is one loan, issued for one month. \n",
    "\n",
    "Row count: **{{len(df_original.index)}}**  \n",
    "Column count: **{{len(df_original.columns)}}**  \n",
    "**'Default'** is a dependent column that I have to to predict  \n",
    "\n",
    "|Column | Data Type |NaN value count|Description | Comment|\n",
    "|:-----|:---------|--------|---|---|  \n",
    "| Customer_WID | {{str(df_original.Customer_WID.dtypes)}} |{{df_original.Customer_WID.isna().sum()}} |Unique customer identifier |  |\n",
    "| DisbursementDate | {{str(df_original.DisbursementDate.dtypes)}} |{{df_original.DisbursementDate.isna().sum()}}| Date, when loan was disbursed  ||\n",
    "| Age | {{str(df_original.Age.dtypes)}} | {{df_original.Age.isna().sum()}}| Customer age  ||\n",
    "| CustomerType | {{str(df_original.CustomerType.dtypes)}} | {{df_original.Age.isna().sum()}}|Internal customer type classification||  \n",
    "| SOR | {{str(df_original.SOR.dtypes)}} | {{df_original.SOR.isna().sum()}}|A metric of customer relationship with the bank ||   \n",
    "| MonthsSinceOpen | {{str(df_original.MonthsSinceOpen.dtypes)}} | {{df_original.MonthsSinceOpen.isna().sum()}}|Number of months since first account for the customer  ||\n",
    "| MonthsSinceActive | {{str(df_original.MonthsSinceActive.dtypes)}} | {{df_original.MonthsSinceActive.isna().sum()}}|Number of months since last activity || \n",
    "| FinancialMeasure1 | {{str(df_original.FinancialMeasure1.dtypes)}} |{{df_original.FinancialMeasure1.isna().sum()}}| Some measure of financial activity of a customer  ||\n",
    "| FinancialMeasure2 | {{str(df_original.FinancialMeasure2.dtypes)}} | {{df_original.FinancialMeasure2.isna().sum()}}|Some measure of financial activity of a customer  ||\n",
    "| FinancialMeasure3 | {{str(df_original.FinancialMeasure3.dtypes)}} |{{df_original.FinancialMeasure3.isna().sum()}}| Some measure of financial activity of a customer ||\n",
    "| FinancialMeasure4 | {{str(df_original.FinancialMeasure4.dtypes)}} | {{df_original.FinancialMeasure4.isna().sum()}}|Some measure of financial activity of a customer  ||\n",
    "| CRBScore | {{str(df_original.CRBScore.dtypes)}} | {{df_original.CRBScore.isna().sum()}}|Credit rating bureau score  \n",
    "| Amount | {{str(df_original.Amount.dtypes)}} |{{df_original.Amount.isna().sum()}}| Loan amount || \n",
    "| **Default** | {{str(df_original.Default.dtypes)}} |{{df_original.Default.isna().sum()}}| 1 - Defaulted on this loan, 0 - paid||"
   ]
  },
  {
   "cell_type": "code",
   "execution_count": 3,
   "metadata": {},
   "outputs": [],
   "source": [
    "df=clean_dataset(df_original)"
   ]
  },
  {
   "cell_type": "markdown",
   "metadata": {},
   "source": [
    "**df** - dataset is cleaned using following steps:\n",
    "* 11 rows with NA values are removed\n",
    "* column 'DisbursementDate' type is changed from object to datetime\n",
    "* column 'Age' - rows are removed, where age is above 18 and below 80 \n",
    "* column 'CustomerType' - rows are removed, where type is 0 or 3\n",
    "* column 'MonthsSinceActive' is deleted\n",
    "* column 'AgeBin' is added ('Age' binning to 5% quantile)\n",
    "* column 'CRBScoreBin' is added ('CRBScore' binning to 5% quantile)\n",
    "\n",
    "Row count: **{{len(df.index)}}**  \n",
    "Column count: **{{len(df.columns)}}**   \n",
    "\n",
    "|Column | Data Type |NaN value count|Description | Comment|\n",
    "|:-----|:---------|--------|---|---|  \n",
    "| Customer_WID | {{str(df.Customer_WID.dtypes)}} |{{df.Customer_WID.isna().sum()}} |Unique customer identifier |  |\n",
    "| DisbursementDate | {{str(df.DisbursementDate.dtypes)}} |{{df.DisbursementDate.isna().sum()}}| Date, when loan was disbursed  ||\n",
    "| Age | {{str(df.Age.dtypes)}} | {{df.Age.isna().sum()}}| Customer age  ||\n",
    "| CustomerType | {{str(df.CustomerType.dtypes)}} | {{df.Age.isna().sum()}}|Internal customer type classification (1,2)||  \n",
    "| SOR | {{str(df.SOR.dtypes)}} | {{df.SOR.isna().sum()}}|A metric of customer relationship with the bank ||   \n",
    "| MonthsSinceOpen | {{str(df.MonthsSinceOpen.dtypes)}} | {{df.MonthsSinceOpen.isna().sum()}}|Number of months since first account for the customer  ||\n",
    "| FinancialMeasure1 | {{str(df.FinancialMeasure1.dtypes)}} |{{df.FinancialMeasure1.isna().sum()}}| Some measure of financial activity of a customer  ||\n",
    "| FinancialMeasure2 | {{str(df.FinancialMeasure2.dtypes)}} | {{df.FinancialMeasure2.isna().sum()}}|Some measure of financial activity of a customer  ||\n",
    "| FinancialMeasure3 | {{str(df.FinancialMeasure3.dtypes)}} |{{df.FinancialMeasure3.isna().sum()}}| Some measure of financial activity of a customer ||\n",
    "| FinancialMeasure4 | {{str(df.FinancialMeasure4.dtypes)}} | {{df.FinancialMeasure4.isna().sum()}}|Some measure of financial activity of a customer  ||\n",
    "| CRBScore | {{str(df.CRBScore.dtypes)}} | {{df.CRBScore.isna().sum()}}|Credit rating bureau score  \n",
    "| Amount | {{str(df.Amount.dtypes)}} |{{df.Amount.isna().sum()}}| Loan amount || \n",
    "| **Default** | {{str(df.Default.dtypes)}} |{{df.Default.isna().sum()}}| 1 - Defaulted on this loan, 0 - paid||\n",
    "| AgeBin | {{str(df.AgeBin.dtypes)}} |{{df.AgeBin.isna().sum()}}| 'Age' binning to 5% quantile|\n",
    "| CRBScoreBin | {{str(df.CRBScoreBin.dtypes)}} |{{df.CRBScoreBin.isna().sum()}}| 'CRBScore' binning to 5% quantile|"
   ]
  },
  {
   "cell_type": "code",
   "execution_count": null,
   "metadata": {},
   "outputs": [],
   "source": [
    "df.info()"
   ]
  },
  {
   "cell_type": "code",
   "execution_count": null,
   "metadata": {},
   "outputs": [],
   "source": [
    "df.describe()"
   ]
  },
  {
   "cell_type": "markdown",
   "metadata": {},
   "source": [
    "# Data exploration "
   ]
  },
  {
   "cell_type": "markdown",
   "metadata": {},
   "source": [
    "## General loan trends"
   ]
  },
  {
   "cell_type": "code",
   "execution_count": null,
   "metadata": {},
   "outputs": [],
   "source": [
    "tmp=df[['Age', 'CustomerType', 'SOR','CRBScore', 'Amount','Default']].iloc[:100]\n",
    "g=sns.pairplot(tmp, kind=\"reg\", hue='Default', markers=[\"o\", \"s\"], palette=\"husl\")\n",
    "g.fig.suptitle('Paired scatter and regression plot',y=1.01,fontsize=24)\n",
    "plt.show()"
   ]
  },
  {
   "cell_type": "code",
   "execution_count": null,
   "metadata": {},
   "outputs": [],
   "source": [
    "corr_FM1_FM2=round(df[['FinancialMeasure3', 'FinancialMeasure4']].corr().iloc[1,0],3)\n",
    "corr_CRBScore_Amount=round(df[['CRBScore', 'Amount']].corr().iloc[1,0],3)\n",
    "corr_MonthsSinceOpen_Age=round(df[['MonthsSinceOpen', 'Age']].corr().iloc[1,0],3)\n",
    "corr_SOR_Amount=round(df[['SOR', 'Amount']].corr().iloc[1,0],3)\n",
    "tmp=df.iloc[:50,1:]\n",
    "corr_matrix=tmp.corr()\n",
    "heatmap(corr_matrix)"
   ]
  },
  {
   "cell_type": "markdown",
   "metadata": {},
   "source": [
    "**Paired scatter and regression plot** and **Correlation plot** above shows the following facts:  \n",
    "* All covariates have a small negative correlation with Default, the strongest correlation is with CRBScore (**{{corr_CRBScore_Amount}}**)\n",
    "* MonthsSinceOpen correlates with age (**{{corr_MonthsSinceOpen_Age}}**), telling that there is a substantial part of long term customers with the bank  \n",
    "* SOR correlates with Amount (**{{corr_SOR_Amount}}**), telling that perhaps SOR is used to set limits for a loan amount  \n",
    "* FinancialMeasures correlate with Amount, telling that FinancialMeasures could be customer income or average balances  \n",
    "* There is a very strong (**{{corr_FM1_FM2}}**) correlation between FinancialMeasure3 and FinancialMeasure4, which could make it more difficult to interpret regression coefficients. Perhaps we might need to use only one of them in our models.  "
   ]
  },
  {
   "cell_type": "code",
   "execution_count": null,
   "metadata": {},
   "outputs": [],
   "source": [
    "df_original.MonthsSinceActive.value_counts(dropna=False)"
   ]
  },
  {
   "cell_type": "markdown",
   "metadata": {},
   "source": [
    "In the original dataset **'MonthsSinceActive'** column has 11 'NaN' values and 1 value equals to '2', all others values are equal to '0'. It is a good indicator, it means that all customers are active. These column has been removed from **'df'** dataset because all values are the same and it will not help in prediction."
   ]
  },
  {
   "cell_type": "code",
   "execution_count": 4,
   "metadata": {},
   "outputs": [
    {
     "data": {
      "image/png": "[encoded data removed]",
      "text/plain": [
       "<Figure size 1296x576 with 1 Axes>"
      ]
     },
     "metadata": {
      "needs_background": "light"
     },
     "output_type": "display_data"
    }
   ],
   "source": [
    "tmp=df.groupby(['SOR','CustomerType'])['Customer_WID'].count().reset_index(name=\"LoanCount\")\n",
    "tmp=tmp.pivot(index=\"SOR\",columns = \"CustomerType\", values=\"LoanCount\")\n",
    "tmp.columns = [\"Customer Type 1\", \"Customer Type 2\"]\n",
    "tmp[\"SOR\"] = tmp.index\n",
    "tmp.SOR = tmp.SOR.astype(np.int)\n",
    "tmp = tmp.fillna(0)\n",
    "stacked_barplot(data=tmp, x='SOR', y=['Customer Type 1', 'Customer Type 2'], \\\n",
    "        title='SOR distribution', xlabel='SOR', ylabel='Loan Count')"
   ]
  },
  {
   "cell_type": "markdown",
   "metadata": {},
   "source": [
    "The majority of customers are in **'SOR'** 5.  \n",
    "Distribution of customer type 1 and customer type 2 are stable."
   ]
  },
  {
   "cell_type": "markdown",
   "metadata": {},
   "source": [
    "In original dataset column **'DisbursementDate'** has type 'object', but contains date values so I made a type conversion to datetime in **'df'** dateset.  \n",
    "Loan Disbursement Dates in dataset starts at **{{DateContainer.min_month}} {{DateContainer.year}}** ends at **{{DateContainer.max_month}} {{DateContainer.year}}**, a period is equal to **{{DateContainer.month_day_count.months}}** months and **{{DateContainer.month_day_count.days}}** days"
   ]
  },
  {
   "cell_type": "code",
   "execution_count": null,
   "metadata": {},
   "outputs": [],
   "source": [
    "tmp=df.groupby(df['DisbursementDate'].dt.month)['Customer_WID']. \\\n",
    "        count().reset_index(name=\"LoanCount\").sort_values('DisbursementDate')\n",
    "loan_count_per_month_mean=tmp.LoanCount.mean()\n",
    "loan_count_per_month_max=tmp.LoanCount.max()\n",
    "for i in range(len(tmp.DisbursementDate)):\n",
    "    tmp.DisbursementDate[i]=calendar.month_abbr[i+1]\n",
    "title='Count of loans per month'\n",
    "barplot(tmp, 'DisbursementDate','LoanCount', title, 'Loan Count', 'Months')"
   ]
  },
  {
   "cell_type": "code",
   "execution_count": null,
   "metadata": {},
   "outputs": [],
   "source": [
    "tmp=df.groupby(df['DisbursementDate'].dt.month)['Amount']. \\\n",
    "        sum().reset_index(name=\"LoanAmount\").sort_values('DisbursementDate')\n",
    "loan_amount_per_month_mean=tmp.LoanAmount.mean()\n",
    "loan_amount_per_month_max=tmp.LoanAmount.max()\n",
    "for i in range(len(tmp.DisbursementDate)):\n",
    "    tmp.DisbursementDate[i]=calendar.month_abbr[i+1]  \n",
    "barplot(tmp, 'DisbursementDate','LoanAmount', 'Loan amount per month', 'Months', 'Loan Amount')"
   ]
  },
  {
   "cell_type": "markdown",
   "metadata": {},
   "source": [
    "Mainly loan disbursement trend is stable with **{{format_number(round(loan_count_per_month_mean))}}** loans for a total value of **{{format_number(round(loan_amount_per_month_mean))}}** on average per month.   \n",
    "But there appears to be a spike in March when **{{format_number(round(loan_count_per_month_max))}}** loan was issued for a total value of **{{format_number(round(loan_amount_per_month_max))}}**."
   ]
  },
  {
   "cell_type": "markdown",
   "metadata": {},
   "source": [
    "**Loan count and amount per day**  \n",
    "Min loan count in one day: **{{format_number(round(df.groupby(df.DisbursementDate).Customer_WID.count().min()))}}**  \n",
    "Max loan count in one day: **{{format_number(round(df.groupby(df_original.DisbursementDate).Customer_WID.count().max()))}}**  \n",
    "Avarege loan count in one day: **{{format_number(round(df.groupby(df.DisbursementDate).Customer_WID.count().mean()))}}**  \n",
    "\n",
    "Min loan amount in one day: **{{format_number(int(df.groupby(df_original.DisbursementDate).Amount.sum().min()))}}**  \n",
    "Max loan amount in one day: **{{format_number(int(df.groupby(df_original.DisbursementDate).Amount.sum().max()))}}**  \n",
    "Avarege loan amount in one day: **{{format_number(round(df.groupby(df.DisbursementDate).Amount.sum().mean()))}}**  "
   ]
  },
  {
   "cell_type": "code",
   "execution_count": null,
   "metadata": {},
   "outputs": [],
   "source": [
    "tmp = df.groupby('Customer_WID')[\"Customer_WID\"].count().reset_index(name=\"LoanCount\").\\\n",
    "groupby(\"LoanCount\").count().reset_index().rename(columns={\"Customer_WID\": \"CustomerCount\"})\n",
    "pct_repeat_customers=(tmp[tmp.LoanCount>1].CustomerCount.sum()/tmp.CustomerCount.sum())*100\n",
    "title='Number of costomers by loan count (%s - %s %s)' %(DateContainer.min_month_abbr,\n",
    "        DateContainer.max_month_abbr, DateContainer.year)\n",
    "barplot(tmp, 'LoanCount', 'CustomerCount', title, 'Loan Count', 'Customer Count')"
   ]
  },
  {
   "cell_type": "markdown",
   "metadata": {},
   "source": [
    "The chart above shows that **{{round(pct_repeat_customers,2)}}%** of customers have taken more than 1 loan in less than one year period"
   ]
  },
  {
   "cell_type": "code",
   "execution_count": null,
   "metadata": {},
   "outputs": [],
   "source": [
    "lineplot(df_original.groupby('Age')['Customer_WID'].count(),\n",
    "         'Loan count by age',\n",
    "         'Customer Age',\n",
    "         'Loan Count'\n",
    "         )"
   ]
  },
  {
   "cell_type": "code",
   "execution_count": null,
   "metadata": {},
   "outputs": [],
   "source": [
    "age_less18_pct=round(df_original[df_original.Age<18]['Customer_WID'].count()\\\n",
    "                 /df_original['Customer_WID'].count()*100,3)\n",
    "age_more80_pct=round(df_original[(df_original.Age>80)&(df_original.Age<117)]['Customer_WID']\\\n",
    "                .count()/df_original['Customer_WID'].count()*100,3)\n",
    "age_117_pct=round(df_original[df_original.Age==117]['Customer_WID'].count() \\\n",
    "              /df_original['Customer_WID'].count()*100,3)\n",
    "age_118_count=df_original[df_original.Age==118]['Customer_WID'].count()\n",
    "age_18_80=df_original[(df_original.Age>=18)&(df_original.Age<=80)]"
   ]
  },
  {
   "cell_type": "markdown",
   "metadata": {},
   "source": [
    "The youngest customer is **{{int(df_original.Age.min())}}** years old  \n",
    "The eldest customer is **{{int(df_original.Age.max())}}** years old  \n",
    "\n",
    "The avarege customer age is **{{round(df_original.Age.mean())}}**.  \n",
    "Age median is **{{round(df_original.Age.median())}}**.  \n",
    "Age mode is **{{int(df_original.Age.mode())}}**, it means that the most customers take loans at 30 years.  \n",
    "Age standard deviation is **{{round(df_original.Age.std(),3)}}**\n",
    "\n",
    "**{{age_less18_pct}}%** customers are younger than 18 years,  in my analysis, I will suppose that loan can only be given to a person who is at least 18 years old.  \n",
    " \n",
    "**{{age_more80_pct}}%** customers are between 80 years and 117 years, also {{age_118_count}} customers are 118 years old. I am not sure that this data is valid and the row count is small so I will not take thid data, when I do age binning.   \n",
    "\n",
    "**{{age_117_pct}}%** is 117 years old. If a person born in 1900 and a loan was taken in 2017, customer can be 117 years old, but probably that is the earliest year that can be chosen and it has been put as default.  \n",
    "\n",
    "I have removed rows where customer age is less than 18 and more than 80 in **'df'** dataset, because those rows are not trustable. Age standard deviation will be changed from **{{round(df_original.Age.std(),3)}}** to **{{round(age_18_80.Age.std(),3)}}**"
   ]
  },
  {
   "cell_type": "code",
   "execution_count": null,
   "metadata": {},
   "outputs": [],
   "source": [
    "lineplot(df_original,\n",
    "         'Average loan amount over age with confidence interval',\n",
    "         'Customer Age',\n",
    "         'Loan Amount',\n",
    "         x='Age',\n",
    "         y='Amount',\n",
    "         )"
   ]
  },
  {
   "cell_type": "markdown",
   "metadata": {},
   "source": [
    "The line plot with error bands showing a confidence interval. For customer between 20 and 80 years errors a much smaller, than for customer who younger than 20 or elder than 80."
   ]
  },
  {
   "cell_type": "code",
   "execution_count": null,
   "metadata": {},
   "outputs": [],
   "source": [
    "tmp = df_original.groupby(\"CustomerType\").count().reset_index()\n",
    "pct_loans_customer_1=(tmp[tmp.CustomerType==1.0].Customer_WID.sum()/tmp.Customer_WID.sum())*100\n",
    "pct_loans_customer_2=(tmp[tmp.CustomerType==2.0].Customer_WID.sum()/tmp.Customer_WID.sum())*100\n",
    "barplot(tmp, 'CustomerType', 'Customer_WID', 'Loan count by customer type', \\\n",
    "        'Customer Type', 'Loans', figsize=(18,6))"
   ]
  },
  {
   "cell_type": "markdown",
   "metadata": {},
   "source": [
    "Internal customer type classification contains two types: '1', '2', but dataset also have 2 customers with type '3' and one customer with type '0'.  \n",
    "I have deleted those 3 rows from **'df'** dataset.  \n",
    "The plot above shows that **{{round(pct_loans_customer_1,2)}}%** of the loans are issued to customer type **'1'** ** and **{{round(pct_loans_customer_2,2)}}%** to customer type **'2'**.  \n",
    "This leads me to believe that customer type **'1'** is a retail customer, while customer type **'2'** could be business or SME (small and medium enterprises) customer."
   ]
  },
  {
   "cell_type": "code",
   "execution_count": null,
   "metadata": {},
   "outputs": [],
   "source": [
    "amount_min_customer_1=df[df.CustomerType==1.0].Amount.min()\n",
    "amount_max_customer_1=df[df.CustomerType==1.0].Amount.max()\n",
    "amount_median_customer_1=df[df.CustomerType==1.0].Amount.median()\n",
    "amount_min_customer_2=df[df.CustomerType==2.0].Amount.min()\n",
    "amount_max_customer_2=df[df.CustomerType==2.0].Amount.max()\n",
    "amount_median_customer_2=df[df.CustomerType==2.0].Amount.median()\n",
    "densityplot(df_original[df_original.CustomerType.isin([1, 2])], \"Amount\", 'CustomerType', \n",
    "        'Loan amount distribution by customer type', \n",
    "        'Loan amount', 'Density')"
   ]
  },
  {
   "cell_type": "code",
   "execution_count": null,
   "metadata": {},
   "outputs": [],
   "source": [
    "boxplot(df, 'CustomerType', 'Amount', 'Amount of loan per Customer Type', \\\n",
    "        'Customer Type', 'Amount', yscale=\"log\")"
   ]
  },
  {
   "cell_type": "markdown",
   "metadata": {},
   "source": [
    "Medium amount for customer **'1'** is **{{format_number(amount_median_customer_1)}}** that is lower than median for costomer **'2'** with median **{{format_number(amount_median_customer_2)}}**.  \n",
    "Customer type **'2'** distrubution is wider than customer type **'1'** distribution.  \n",
    "The minimum amount is **{{format_number(amount_min_customer_2)}}**, the maximum amount is **{{format_number(int(amount_max_customer_1))}}** for customer **'1'** and **'2'**"
   ]
  },
  {
   "cell_type": "markdown",
   "metadata": {},
   "source": [
    "## Default predictors"
   ]
  },
  {
   "cell_type": "markdown",
   "metadata": {},
   "source": [
    "Lets start predictor exploration with **Credit Rating Bureau score** "
   ]
  },
  {
   "cell_type": "code",
   "execution_count": null,
   "metadata": {},
   "outputs": [],
   "source": [
    "lineplot(df, \n",
    "         'Probability of default by CBR Score', \n",
    "         'CBR Score Groups', \n",
    "         'Probability of default', \n",
    "          x='CRBScoreBin', \n",
    "          y='Default', xticks=10,percent=True\n",
    "          )"
   ]
  },
  {
   "cell_type": "markdown",
   "metadata": {},
   "source": [
    "In general **Credit Rating Bureau score** is predictive and the higher the score, the lower the probability of default is. But also score has bad discriminative power between **542** and **588**, where the probability of default is not monotone."
   ]
  },
  {
   "cell_type": "code",
   "execution_count": null,
   "metadata": {},
   "outputs": [],
   "source": [
    "lineplot(df, \n",
    "         'Probability of default by age group', \n",
    "         'Customer Age Groups', \n",
    "         'Probability of default', \n",
    "          x='AgeBin', \n",
    "          y='Default', xticks=12,percent=True\n",
    "          )"
   ]
  },
  {
   "cell_type": "markdown",
   "metadata": {},
   "source": [
    "Across these **age groups** probability of default varies between approximately from **1%** to **5%**.  \n",
    "In general probability of default is lower in older age groups."
   ]
  },
  {
   "cell_type": "markdown",
   "metadata": {},
   "source": [
    "## Predictor interactions"
   ]
  },
  {
   "cell_type": "markdown",
   "metadata": {},
   "source": [
    "## 3.3. Customer Type"
   ]
  },
  {
   "cell_type": "markdown",
   "metadata": {},
   "source": [
    "## 3.N. Default"
   ]
  },
  {
   "cell_type": "code",
   "execution_count": null,
   "metadata": {},
   "outputs": [],
   "source": [
    "mapping={\n",
    "    0 : 'Loan paid',\n",
    "    1 : 'Loan defaulted'\n",
    "    }\n",
    "tmp=[df_original]\n",
    "for d in tmp:\n",
    "    d['DefaultLabel']=d.Default.map(mapping)"
   ]
  },
  {
   "cell_type": "markdown",
   "metadata": {},
   "source": [
    "# 4. Feature engineering \n",
    "Describe and show code that transforms your original dataset into dataset ready for prediction."
   ]
  },
  {
   "cell_type": "code",
   "execution_count": null,
   "metadata": {},
   "outputs": [],
   "source": []
  },
  {
   "cell_type": "markdown",
   "metadata": {},
   "source": [
    "### <font color=red>Since you have customer identifier and date, when loan was issued you can try to build additional features based on previous loans.</font>"
   ]
  },
  {
   "cell_type": "markdown",
   "metadata": {},
   "source": [
    "## 4.1. Remove NaN values"
   ]
  },
  {
   "cell_type": "code",
   "execution_count": null,
   "metadata": {},
   "outputs": [],
   "source": []
  },
  {
   "cell_type": "markdown",
   "metadata": {},
   "source": [
    "## 4.2. Quantize age"
   ]
  },
  {
   "cell_type": "markdown",
   "metadata": {},
   "source": [
    "# 5. Feature selection \n",
    "Describe how you approached feature selection: which features you decided to include in your models and why."
   ]
  },
  {
   "cell_type": "markdown",
   "metadata": {},
   "source": [
    "# 6. Modeling \n",
    "Describe different binary classification models you used for this project. Ensure that you are correctly splitting dataset into train and test.\n",
    "Model evaluation - describe which metrics you used for model comparison and why. Compare models fit in step 6 using technical and business measures (potential revenue lift from using one model instead of another, refer to Business variables section).\n",
    "Recommendation - a small section, where you recommend one of the models built in section 6 and 7 for utilization in production. Make sure to describe why using business evaluation terms.\n",
    "Conclusion - final conclusions. Describe your thoughts about the project, is it worth to put resulting model in production, what additional data could benefit your model."
   ]
  },
  {
   "cell_type": "markdown",
   "metadata": {},
   "source": [
    "<font color=red>\n",
    "For credit scoring it is crucially important to start of with model, that is explainable and robust to outliers. Then you might want to investigate more complicated models, and provide a tradeof between explainability and predictive power.   \n",
    "\n",
    "At the end you need to provide estimated monthly revenue by using your credit scoring model (refer to business variables above) and what is the cutoff for loan acceptance.</font>"
   ]
  },
  {
   "cell_type": "markdown",
   "metadata": {},
   "source": [
    "# 7. Model evaluation \n",
    "Describe which metrics you used for model comparison and why. Compare models fit in step 6 using technical and business measures (potential revenue lift from using one model instead of another, refer to Business variables section).\n",
    "Recommendation - a small section, where you recommend one of the models built in section 6 and 7 for utilization in production. Make sure to describe why using business evaluation terms.\n",
    "Conclusion - final conclusions. Describe your thoughts about the project, is it worth to put resulting model in production, what additional data could benefit your model."
   ]
  },
  {
   "cell_type": "markdown",
   "metadata": {},
   "source": [
    "# 8. Recommendation \n",
    "A small section, where you recommend one of the models built in section 6 and 7 for utilization in production. Make sure to describe why using business evaluation terms.\n",
    "Conclusion - final conclusions. Describe your thoughts about the project, is it worth to put resulting model in production, what additional data could benefit your model."
   ]
  },
  {
   "cell_type": "markdown",
   "metadata": {},
   "source": [
    "# 9. Conclusion \n",
    "Final conclusions. Describe your thoughts about the project, is it worth to put resulting model in production, what additional data could benefit your model."
   ]
  },
  {
   "cell_type": "code",
   "execution_count": null,
   "metadata": {},
   "outputs": [],
   "source": []
  }
 ],
 "metadata": {
  "kernelspec": {
   "display_name": "Python 3",
   "language": "python",
   "name": "python3"
  },
  "language_info": {
   "codemirror_mode": {
    "name": "ipython",
    "version": 3
   },
   "file_extension": ".py",
   "mimetype": "text/x-python",
   "name": "python",
   "nbconvert_exporter": "python",
   "pygments_lexer": "ipython3",
   "version": "3.7.1"
  },
  "toc": {
   "base_numbering": 1,
   "nav_menu": {},
   "number_sections": true,
   "sideBar": true,
   "skip_h1_title": false,
   "title_cell": "Table of Contents",
   "title_sidebar": "Contents",
   "toc_cell": false,
   "toc_position": {},
   "toc_section_display": true,
   "toc_window_display": false
  }
 },
 "nbformat": 4,
 "nbformat_minor": 2
}
